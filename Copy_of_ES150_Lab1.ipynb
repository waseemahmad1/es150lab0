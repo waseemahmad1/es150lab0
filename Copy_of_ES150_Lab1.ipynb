{
  "nbformat": 4,
  "nbformat_minor": 0,
  "metadata": {
    "colab": {
      "provenance": [],
      "include_colab_link": true
    },
    "kernelspec": {
      "name": "python3",
      "display_name": "Python 3"
    },
    "language_info": {
      "name": "python"
    }
  },
  "cells": [
    {
      "cell_type": "markdown",
      "metadata": {
        "id": "view-in-github",
        "colab_type": "text"
      },
      "source": [
        "<a href=\"https://colab.research.google.com/github/waseemahmad1/es150lab0/blob/main/Copy_of_ES150_Lab1.ipynb\" target=\"_parent\"><img src=\"https://colab.research.google.com/assets/colab-badge.svg\" alt=\"Open In Colab\"/></a>"
      ]
    },
    {
      "cell_type": "markdown",
      "source": [
        "# ES150: Probability and Applied Engineering\n",
        "\n",
        "### Lab \\#1: Birthday Problem\n",
        "\n",
        "Spring 2024\n",
        "\n",
        "<br>\n",
        "\n",
        "This notebook is written in a tutorial format and should take you approximately 1 hour to complete on your own.\n",
        "\n",
        "***"
      ],
      "metadata": {
        "id": "ZwM8d9Gs41Yp"
      }
    },
    {
      "cell_type": "markdown",
      "source": [
        "# Import Libraries <a name=\"import_libraries\"></a>\n",
        "\n",
        "We start by importing the necessary libraries:"
      ],
      "metadata": {
        "id": "o6r_JaQa496n"
      }
    },
    {
      "cell_type": "code",
      "source": [
        "# Import Libraries:\n",
        "import numpy as np                  # Numerical Python\n",
        "import matplotlib.pyplot as plt     # Matplotlib for visualization"
      ],
      "metadata": {
        "id": "sUvEZH684-U-"
      },
      "execution_count": 13,
      "outputs": []
    },
    {
      "cell_type": "markdown",
      "source": [
        "# Birthday Problem <a name=\"bday_prob\"></a>\n",
        "\n",
        "<u>Problem Statement</u>: \\\n",
        "In a set of $\\small N$ randomly choosen people, what is the probability that at least one pair will have the same birthday?  We denote this event as $\\small \\mathbb{P}_N$, where $\\small N \\in \\mathbb{Z}^+$ can be any positive integer.\n",
        "\n",
        "<br>\n",
        "\n",
        "<u>Assumptions</u>: \\\n",
        "We make a few assumptions to make the problem tractable:\n",
        "\n",
        "1. Each year has 365 days (*i.e.*, we exclude leap years).\n",
        "\n",
        "2. Each day of the year is equally probable for a birthday.\n",
        "\n",
        "<br>\n",
        "\n",
        "<u>Problem Framing</u>: \\\n",
        "If we denote the 365 different birthdays as numbers from $\\small 1$ to $\\small 365$, our sample space depends on the number of people $\\small N$ randomly chosen:\n",
        "\n",
        "<br>\n",
        "\n",
        "\\begin{align*}\n",
        "\\Omega & = \\{(n_1, n_2, \\ldots, n_N) : 1 \\le n_1, n_2, \\ldots, n_N \\le 365 \\}  \\} \\\\\n",
        "\\end{align*}\n",
        "\n",
        "<br>\n",
        "\n",
        "Where $\\small n_1$ is the birthday of the first person, $\\small n_2$ is the birthday of the second person, and so forth.  Our sample space comprises of a set of $\\small N$ people, where each person's birthday (*i.e.*, $\\small n_1$ through $\\small n_N$), can have a value between $\\small 1$ and $\\small 365$ (thus 365 possible different values).  \n",
        "\n",
        "The size of the sample space is thus $\\small \\#\\Omega = 365^N$, since every person can take a value from 365 possible different birthdays, and there are $\\small N$ people.   \n",
        "\n",
        "\n",
        "***\n",
        "\n"
      ],
      "metadata": {
        "id": "9nqYjhim5aiV"
      }
    },
    {
      "cell_type": "markdown",
      "source": [
        "# Example 1: Birthday Problem, $\\small N = 2$ <a name=\"example_1\"></a>\n",
        "\n",
        "We first consider the simplet case of the *Birthday Problem*, when $\\small N = 2$.  We thus solve for $\\small \\mathbb{P}_{N=2}$, which is the probability of having at least one pair that share the same birthday, in a set of $\\small N = 2$ randomly chosen people.\n",
        "\n",
        "- The solution to this problem is given in the Lecture 2 notes as  $\\small \\mathbb{P}_{2} = 1/365 = 0.002740$."
      ],
      "metadata": {
        "id": "UjUhdqz85GA7"
      }
    },
    {
      "cell_type": "markdown",
      "source": [
        "## Numerical Solution <a name=\"num_sol_1-2\"></a>\n",
        "\n",
        "We use the same approach as in previous notebooks.\n",
        "\n",
        "<br>\n",
        "\n",
        "<u>Step 1</u>: Simulate 1 million random birthdays for $\\small N = 2$ people."
      ],
      "metadata": {
        "id": "RI60IAIcgD7S"
      }
    },
    {
      "cell_type": "code",
      "source": [
        "# Number of trials\n",
        "N = 1e6\n",
        "\n",
        "# Randomly selecting birthday for two people a total of n= 1 million times, using np.random.choice():\n",
        "n1 = np.random.choice(a = np.arange(1,366), size=int(N))\n",
        "n2 = np.random.choice(a = np.arange(1,366), size=int(N))"
      ],
      "metadata": {
        "id": "U5uc8sbaIH2J"
      },
      "execution_count": 14,
      "outputs": []
    },
    {
      "cell_type": "markdown",
      "source": [
        "<u>Step 2</u>: Count the number of occurrences of event $\\small A$, that is, how many times the birthday of person 1 is the same as person 2:"
      ],
      "metadata": {
        "id": "unEz2b2nISQK"
      }
    },
    {
      "cell_type": "code",
      "source": [
        "# Define event A:\n",
        "A = (n1 == n2)   # returns a matrix of boolean dtype (i.e., 'True' and 'False')\n",
        "\n",
        "# count of occurrence of event A:\n",
        "count_A = A.sum()  # Counts the number of 'True'\n",
        "print('# of Occurrence of A: ', count_A)"
      ],
      "metadata": {
        "colab": {
          "base_uri": "https://localhost:8080/"
        },
        "id": "TU92Y4MMIacu",
        "outputId": "f65055fd-eb63-49ba-8afe-3e8dcc979d1b"
      },
      "execution_count": 15,
      "outputs": [
        {
          "output_type": "stream",
          "name": "stdout",
          "text": [
            "# of Occurrence of A:  2766\n"
          ]
        }
      ]
    },
    {
      "cell_type": "markdown",
      "source": [
        "<u>Step 3</u>: Compute $\\small \\mathbb{P}(A)$:"
      ],
      "metadata": {
        "id": "2z6YUJyZIfML"
      }
    },
    {
      "cell_type": "code",
      "source": [
        "# Compute approximate probability of event A:\n",
        "prob_A = count_A/N\n",
        "print(f'P(A) = {prob_A:.4f}')          # Print to 4 decimal points:"
      ],
      "metadata": {
        "colab": {
          "base_uri": "https://localhost:8080/"
        },
        "id": "oGCR78k1IzVW",
        "outputId": "7f2abe81-9cb1-4ed9-a42d-cb0e52147535"
      },
      "execution_count": 16,
      "outputs": [
        {
          "output_type": "stream",
          "name": "stdout",
          "text": [
            "P(A) = 0.0028\n"
          ]
        }
      ]
    },
    {
      "cell_type": "markdown",
      "source": [
        "This is incredibly close to the solution of $\\small \\mathbb{P}_{2} = 1/365 = 0.002740$.\n",
        "\n",
        "Note that this solution method does not scale well for $\\small N > 2$.  If this is not apparent, see the solution for $\\small N = 4$ below:  "
      ],
      "metadata": {
        "id": "UmRkLG32cpWN"
      }
    },
    {
      "cell_type": "code",
      "source": [
        "# Number of trials\n",
        "N = 1e6\n",
        "\n",
        "# Randomly selecting birthday for 4 people a total of n= 1 million times, using np.random.choice():\n",
        "n1 = np.random.choice(a = np.arange(1,366), size=int(N))\n",
        "n2 = np.random.choice(a = np.arange(1,366), size=int(N))\n",
        "n3 = np.random.choice(a = np.arange(1,366), size=int(N))\n",
        "n4 = np.random.choice(a = np.arange(1,366), size=int(N))\n",
        "\n",
        "# Define event A:\n",
        "A = (n1 == n2) | (n1 == n3) | (n1 == n4) | (n2 == n3) | (n2 == n4) | (n3 == n4)  # Defining this event becomes cumberson for large N!\n",
        "\n",
        "# Approximate probability of A: (all in one line of code)\n",
        "prob_A = A.sum()/N             # This yields fraction of 'True', which is the probability.\n",
        "print(f'P_4 = {prob_A:.4f}')  # Print to 4 decimal points:"
      ],
      "metadata": {
        "colab": {
          "base_uri": "https://localhost:8080/"
        },
        "id": "KmqPCzcUdMv7",
        "outputId": "e65b543a-b46c-4532-bcfc-b046ed8f1b37"
      },
      "execution_count": 17,
      "outputs": [
        {
          "output_type": "stream",
          "name": "stdout",
          "text": [
            "P_4 = 0.0164\n"
          ]
        }
      ]
    },
    {
      "cell_type": "markdown",
      "source": [
        "Note that defining the event $\\small A$ is cumbersome as $\\small N$ increases.\n",
        "\n",
        "We present a slightly different solution approach for any $\\small N$ in the next section."
      ],
      "metadata": {
        "id": "v1Gctserpwa9"
      }
    },
    {
      "cell_type": "markdown",
      "source": [
        "# Example 2: Birthday Problem, $\\small 2 \\leq N \\leq 365$ <a name=\"example_2.1\"></a>\n",
        "\n",
        "The analytical solution to the Birthday Problem for any N is given in [Lecture 2 notes]() as:\n",
        "\n",
        "<br>\n",
        "\n",
        "<a name=\"eq_1\"></a>\n",
        "\\begin{align*}\n",
        "\\mathbb{P}_N & = 1 - \\left( \\frac{365!}{(365-N)! \\cdot 365^N}\\right) \\tag{1}\n",
        "\\end{align*}\n",
        "\n"
      ],
      "metadata": {
        "id": "4OdrKD7jUMlN"
      }
    },
    {
      "cell_type": "markdown",
      "source": [
        "***\n",
        "# Exercise 1 (20 mins):\n",
        "\n",
        "A direct implementation of [Eq. #1](#eq_1) has the issue of [integer overflow](https://en.wikipedia.org/wiki/Integer_overflow), which occurs from excessive multiplication of a large number of integers in [Eq. #1](#eq_1). One soluiton is to take the natural log (*i.e.*, $\\small \\mathrm{log}()$) of the problematic portion of [Eq. #1](#eq_1), to turn multiplication to addition.  After performing the addition (which is easier to do on a computer), we take the exponential (*i.e.*, $\\small \\mathrm{exp}()$) of the computation.  Doing so leads to an alternative expression for $\\small \\mathbb{P}_N$ of the form:\n",
        "\n",
        "\n",
        "<br>\n",
        "\n",
        "<a name=\"eq_10\"></a>\n",
        "\\begin{align*}\n",
        "\\mathbb{P}_N & = 1 - \\exp \\left[   \\sum_{i=1}^{365}\\log(i) - \\left( \\sum_{i=1}^{365-N}\\log(i) + N\\cdot \\log(365) \\right)   \\right] \\tag{2}\n",
        "\\end{align*}\n",
        "\n",
        "<br>\n",
        "\n",
        "Use [Eq. 2](#eq_2) to visualization of $\\small N$ *vs.* $\\small \\mathbb{P}_N$ for $\\small 1 \\leq N \\leq 100$.  For a derivation of [Eq. 2](#eq_2), see [APPENDIX 1](#appendix_1).   \n",
        "\n",
        "<blockquote>\n",
        "\n",
        "**HINT**:\n",
        "\n",
        "- Note that [Eq. 2](#eq_2) can't be vectorized due to the term $\\small \\sum_{i=1}^{365-N}\\log(i)  $.  Therefore, create a function `prob_N_exact()` that takes as input the value of $\\small N$ and returns $\\small \\mathbb{P}_N$.\n",
        "\n",
        "</blockquote>\n",
        "\n",
        "\n",
        "\n",
        "\n",
        "\n"
      ],
      "metadata": {
        "id": "SyD19z03qR3C"
      }
    },
    {
      "cell_type": "code",
      "source": [
        "# Write your solution here\n",
        "\n",
        "def prob_N_exact(N) :\n",
        "  if N < 1 or N > 100 :\n",
        "    return \"Invalid input: N should be between 1 and 100 (inclusive)\"\n",
        "\n",
        "  summation_one = sum(np.log(i) for i in range(1, 366))\n",
        "  summation_two = sum(np.log(i) for i in range(1, 366-N))\n",
        "\n",
        "  P_N = 1 - np.exp(summation_one - (summation_two + N * np.log(365)))\n",
        "\n",
        "  return P_N\n",
        "\n",
        "\n",
        "print(prob_N_exact(40))"
      ],
      "metadata": {
        "id": "UYB14Nla7_6A",
        "colab": {
          "base_uri": "https://localhost:8080/"
        },
        "outputId": "da2a0091-2c6c-42d3-e6ff-c7ea19931df6"
      },
      "execution_count": 18,
      "outputs": [
        {
          "output_type": "stream",
          "name": "stdout",
          "text": [
            "0.8912318098179869\n"
          ]
        }
      ]
    },
    {
      "cell_type": "markdown",
      "source": [
        "## Simulation-based Solution for $\\small 2 \\leq N \\leq 365$  <a name=\"num_sol_2-2\"></a>\n",
        "\n",
        "\n",
        "Let's start by solving the problem for N = 2 differently.  This approach differs from our first approach in a few minor ways (see below):"
      ],
      "metadata": {
        "id": "zTlDuoINrlQ0"
      }
    },
    {
      "cell_type": "code",
      "source": [
        "# Define N = number of ppl\n",
        "N = 2\n",
        "\n",
        "# Define number of experiments to run:\n",
        "M = int(1e5)\n",
        "\n",
        "# Count for at least one pair:\n",
        "count_pair_true = 0\n",
        "\n",
        "for i in range(1, M+1):\n",
        "  # Randomly selecting birthday for N people, using np.random.choice():\n",
        "  ppl_set = np.random.choice(a = np.arange(1,366), size=N)\n",
        "\n",
        "  # Check for at least one birthday pair:\n",
        "  unique_vals, counts = np.unique(ppl_set, return_counts=True)\n",
        "  if (counts > 1).sum() > 0:  # at least one pair exists!\n",
        "    count_pair_true += 1\n",
        "\n",
        "# Approximate probability of at least one birthday pair for N:\n",
        "prob_N = count_pair_true/M\n",
        "print(f'P_N = {prob_N:.4f}')  # Print to 4 decimal points:"
      ],
      "metadata": {
        "id": "pIRXlnBjUP0t",
        "colab": {
          "base_uri": "https://localhost:8080/"
        },
        "outputId": "3d50bdab-5d27-4ecd-fb8b-8d66a127ed0f"
      },
      "execution_count": 19,
      "outputs": [
        {
          "output_type": "stream",
          "name": "stdout",
          "text": [
            "P_N = 0.0027\n"
          ]
        }
      ]
    },
    {
      "cell_type": "markdown",
      "source": [
        "At a high level, the new solution does the following:\n",
        "\n",
        "1. Loops over a set of code `M` number of times, that does the following:\n",
        "\n",
        "  - Randomly select birthdays for N people.  This produces a set $\\small \\{n_1, n_2, ..., n_N\\}$.\n",
        "\n",
        "  - Check for at least one birthday pair.  If so, increase a counter called `count_pair_true`.\n",
        "\n",
        "2. Approximate $\\small \\mathbb{P}_N$ by dividing `count_pair_true` by the number of trials `M`.\n",
        "\n",
        "We can make a function for this code since we hope to use it over and over again:"
      ],
      "metadata": {
        "id": "zVL570bW-Kvl"
      }
    },
    {
      "cell_type": "code",
      "source": [
        "# birthday function:\n",
        "def birthday_prob(N, M=int(1e4)):\n",
        "  # Count for at least one pair:\n",
        "  count_pair_true = 0\n",
        "\n",
        "  for i in range(1, M+1):\n",
        "    # Randomly selecting birthday for N people, using np.random.choice():\n",
        "    ppl_set = np.random.choice(a = np.arange(1,366), size=N)\n",
        "\n",
        "    # Check for at least one birthday pair:\n",
        "    unique_vals, counts = np.unique(ppl_set, return_counts=True)\n",
        "    if (counts > 1).sum() > 0:  # at least one pair exists!\n",
        "      count_pair_true += 1\n",
        "\n",
        "  # Approximate probability of at least one birthday pair for N:\n",
        "  prob_N = count_pair_true/M\n",
        "  return prob_N"
      ],
      "metadata": {
        "id": "_bVX18t7aymw"
      },
      "execution_count": 20,
      "outputs": []
    },
    {
      "cell_type": "markdown",
      "source": [
        "We can now solve for $\\small \\mathbb{P}_N$ for different values of $\\small N$."
      ],
      "metadata": {
        "id": "1qLr8S04ivrF"
      }
    },
    {
      "cell_type": "markdown",
      "source": [
        "***\n",
        "# Exercise 2 (20 mins)\n",
        "\n",
        "Use the function `birthday_prob()` to visualize $\\small N$ vs.  $\\small \\mathbb{P}_N$ for $\\small 2 \\leq N \\leq 100$.  \n",
        "\n",
        "Create a visualization three different times, each time for different values of `M`:\n",
        "\n",
        "- `M = 100`\n",
        "\n",
        "- `M = 1e3`\n",
        "\n",
        "- `M = 1e5`\n",
        "\n",
        "Also include the true analytical solution in each of the three figures. What can you tell about the influence of `M`, *i.e.*, the number of trials.  "
      ],
      "metadata": {
        "id": "6rE94axL_aRw"
      }
    },
    {
      "cell_type": "code",
      "source": [
        "# Write your solution here\n",
        "\n",
        "def estimate_vs_exact(N) :\n",
        "  if N < 2 or N > 100 :\n",
        "    return \"Error: N must be between 2 and 100 (inclusive)\"\n",
        "\n",
        "  M_list = [100, 1000, 100000]\n",
        "  results = []\n",
        "\n",
        "  for M in M_list:\n",
        "    # Print a header for each M value\n",
        "    print(f\"M={M}:\")\n",
        "\n",
        "    P_N_est = birthday_prob(N, M)\n",
        "\n",
        "    # Calculate the true probability using the P_N_true function\n",
        "    P_N_true = prob_N_exact(N)\n",
        "\n",
        "    # Print the estimated and true probabilities for each N value\n",
        "    print(\"Estimated:\", P_N_est, \"... Exact:\", P_N_true)\n",
        "\n",
        "    results.append((P_N_est, P_N_true))\n",
        "\n",
        "  print(\"Format is M = 100, M = 1000, M = 100000: (estimate, exact)\")\n",
        "\n",
        "  return results\n",
        "\n",
        "  print(estimate_vs_exact(20))\n",
        "# As the number of trials increase, the difference between the estimated and exact probabilities decreases. The estimate is more accurate."
      ],
      "metadata": {
        "id": "_sq42x66bLgC"
      },
      "execution_count": 27,
      "outputs": []
    },
    {
      "cell_type": "markdown",
      "source": [
        "\n",
        "\n",
        "***"
      ],
      "metadata": {
        "id": "Qny5_0s8i5mx"
      }
    },
    {
      "cell_type": "markdown",
      "source": [
        "# Questions <a name=\"Questions\"></a>\n",
        "\n",
        "Please direct any questions or feedback you might have to Jason Martinez via jmartinez@g.harvard.edu.\n",
        "\n",
        "Thank You!\n",
        "\n",
        "***"
      ],
      "metadata": {
        "id": "d-fy0Owdi_vF"
      }
    },
    {
      "cell_type": "markdown",
      "source": [
        "\n",
        "Prepared by the\n",
        "[Computing in Engineering Education (CEE)](https://www.seas.harvard.edu/computing-engineering-education) team at Harvard University.\n",
        "\n",
        "\n",
        "<br>\n",
        "<blockquote>\n",
        "<center>\n",
        "<img align=\"middle\" width=40% height=auto src=\"https://drive.google.com/uc?export=view&id=1jibzAHEYtZZDVtLyTE_G05fA02por35s\">\n",
        "</center>\n",
        "</blockquote>\n",
        "\n",
        "<br>\n",
        "\n",
        "***"
      ],
      "metadata": {
        "id": "8d7YMpQxjAdR"
      }
    },
    {
      "cell_type": "markdown",
      "source": [
        "# APPENDIX <a name=\"appendix\"></a>"
      ],
      "metadata": {
        "id": "w-XFqpbK8UpZ"
      }
    },
    {
      "cell_type": "markdown",
      "source": [
        "## APPENDIX A1: Derivation of [Eq. 2](#eq_2)  <a name=\"appendix_1\"></a>\n",
        "\n",
        "To derive [Eq. 2](#eq_), we take the $\\small \\mathrm{log}()$ of the problematic term in [Eq. 1](#eq_1):\n",
        "\n",
        "<br>\n",
        "\n",
        "\\begin{align*}\n",
        "  \\frac{365!}{(365-N)! \\cdot 365^N}\n",
        "\\end{align*}\n",
        "\n",
        "<br>\n",
        "\n",
        "Which gives:\n",
        "\n",
        "<br>\n",
        "\n",
        "\\begin{align*}\n",
        "  \\Rightarrow \\log \\left( \\frac{365!}{(365-N)! \\cdot 365^N}\\right)\n",
        "\\end{align*}\n",
        "\n",
        "<br>\n",
        "\n",
        "Which we can simplify further as:\n",
        "\n",
        "<br>\n",
        "\n",
        "\\begin{align*}\n",
        "  \\Rightarrow \\log(365! ) - \\log[(365-N)! \\cdot 365^N] \\\\\n",
        "\\end{align*}\n",
        "\n",
        "\n",
        "<br>\n",
        "\n",
        "<a name=\"eq_a1\"></a>\n",
        "\\begin{align*}\n",
        "  \\Rightarrow \\log(365! ) - \\left( \\log((365-N)!) + N\\cdot \\log(365)\\right) \\tag{A1}\n",
        "\\end{align*}\n",
        "\n",
        "\n",
        "<br>\n",
        "\n",
        "Using the following mathematical properties of $\\small \\log()$:\n",
        "\n",
        "<br>\n",
        "\n",
        "<a name=\"eq_a2\"></a>\n",
        "\\begin{align*}\n",
        "  \\log(\\frac{a}{b}) = \\log(a) - \\log(b) \\tag{A2}\n",
        "\\end{align*}\n",
        "\n",
        "<br>\n",
        "\n",
        "<a name=\"eq_a3\"></a>\n",
        "\\begin{align*}\n",
        "  \\log(a \\cdot b) = \\log(a) + \\log(b) \\tag{A3}\n",
        "\\end{align*}\n",
        "\n",
        "<br>\n",
        "\n",
        "<a name=\"eq_a4\"></a>\n",
        "\\begin{align*}\n",
        "  \\log(a^N) = N \\cdot \\log(a) \\tag{A4}\n",
        "\\end{align*}\n",
        "\n",
        "<br>\n",
        "\n",
        "To simplify [Eq. A1](#eq_a1) further, we note the definition of a factorial to be:\n",
        "\n",
        "<br>\n",
        "\n",
        "<a name=\"eq_a5\"></a>\n",
        "\\begin{align*}\n",
        "  N! = \\prod_{i = 1}^{N} \\tag{A5}\n",
        "\\end{align*}\n",
        "\n",
        "<br>\n",
        "\n",
        "\n",
        "Taking the $\\small \\mathrm{log}()$ of each side of [Eq. A5](#eq_a5) gives us:\n",
        "\n",
        "<br>\n",
        "\n",
        "\\begin{align*}\n",
        "  \\log(N!) & = \\log(\\prod_{i = 1}^{N})\n",
        "\\end{align*}\n",
        "\n",
        "<br>\n",
        "\n",
        "But note the following mathematical properties of $\\small \\log()$:\n",
        "\n",
        "<br>\n",
        "\n",
        "<a name=\"eq_a6\"></a>\n",
        "\\begin{align*}\n",
        "   \\log(\\prod_{i = 1}^{N})   & = \\sum_{i=1}^{N}\\log(i)  \\tag{A6}\n",
        "\\end{align*}\n",
        "\n",
        "<br>\n",
        "\n",
        "Thus, we have:\n",
        "\n",
        "<br>\n",
        "\n",
        "<a name=\"eq_a7\"></a>\n",
        "\\begin{align*}\n",
        "   \\log(N!)  & = \\sum_{i=1}^{N}\\log(i)  \\tag{A7}\n",
        "\\end{align*}\n",
        "\n",
        "<br>\n",
        "\n",
        "We use [Eq. A7](#eq_a7) to re-write [Eq. A1](#eq_A1) as follows:\n",
        "\n",
        "<br>\n",
        "\n",
        "\\begin{align*}\n",
        " \\log(365! ) - \\left( \\log((365-N)!) + N\\cdot \\log(365) \\right) \\\\\n",
        "\\end{align*}\n",
        "\n",
        "<br>\n",
        "\n",
        "\n",
        "<a name=\"eq_a8\"></a>\n",
        "\\begin{align*}\n",
        " \\Rightarrow \\sum_{i=1}^{365}\\log(i) - \\left( \\sum_{i=1}^{365-N}\\log(i) + N\\cdot \\log(365) \\right) \\tag{A8}\n",
        "\\end{align*}\n",
        "\n",
        "<br>\n",
        "\n",
        "Finally, we have the final expression for $\\small \\mathbb{P}_N$ as:\n",
        "\n",
        "\n",
        "<br>\n",
        "\n",
        "<a name=\"eq_A9\"></a>\n",
        "\\begin{align*}\n",
        "\\mathbb{P}_N & = 1 - \\exp \\left[   \\sum_{i=1}^{365}\\log(i) - \\left( \\sum_{i=1}^{365-N}\\log(i) + N\\cdot \\log(365) \\right)   \\right] \\tag{A9}\n",
        "\\end{align*}\n",
        "\n",
        "<br>\n",
        "\n",
        "***\n"
      ],
      "metadata": {
        "id": "zcJ3LCz_8Wub"
      }
    }
  ]
}