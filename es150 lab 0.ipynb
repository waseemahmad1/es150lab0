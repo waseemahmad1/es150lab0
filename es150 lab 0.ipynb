{
  "nbformat": 4,
  "nbformat_minor": 0,
  "metadata": {
    "colab": {
      "provenance": [],
      "include_colab_link": true
    },
    "kernelspec": {
      "name": "python3",
      "display_name": "Python 3"
    },
    "language_info": {
      "name": "python"
    }
  },
  "cells": [
    {
      "cell_type": "markdown",
      "metadata": {
        "id": "view-in-github",
        "colab_type": "text"
      },
      "source": [
        "<a href=\"https://colab.research.google.com/github/waseemahmad1/es150lab0/blob/main/es150%20lab%200.ipynb\" target=\"_parent\"><img src=\"https://colab.research.google.com/assets/colab-badge.svg\" alt=\"Open In Colab\"/></a>"
      ]
    },
    {
      "cell_type": "markdown",
      "source": [
        "# ES150: Introduction to Probability with Engineering Applications\n",
        "\n",
        "### Lab \\#0: Python Refresher\n",
        "\n",
        "Spring 2024\n",
        "\n",
        "<br>\n",
        "\n",
        "\n",
        "**INSTRUCTIONS**:\n",
        "This notebook is written in a <u>tutorial format</u>.  That is, you should be able to work through this notebook by following the detailed instructions provided, and also running the code cells in chronological order.  \n",
        "\n",
        "For Python related support, please email any questions to Jason Martinez at jmartinez@g.harvard.edu.\n",
        "\n",
        "***"
      ],
      "metadata": {
        "id": "ef6KY_j8iV62"
      }
    },
    {
      "cell_type": "markdown",
      "source": [
        "## Copy to Drive <a name=\"copy_to_drive\"></a>\n",
        "\n",
        "To begin working in this notebook (and any other notebooks in ES150), you will first need to make a copy of the notebook onto your Google Drive account.  This is done by clicking on the *Copy to Drive* tab, located at the top of the notebook.\n",
        "\n",
        "<img align=\"center\" width=15% height=auto src=\"https://drive.google.com/uc?export=view&id=1sQdPpR9jR97QyBtpv5Ykjz7IYMGBgaUC\">\n",
        "\n",
        "\n",
        "Go ahead and do this now.\n",
        "***\n"
      ],
      "metadata": {
        "id": "0B64S0M3m1L3"
      }
    },
    {
      "cell_type": "markdown",
      "source": [
        "## Objectives <a name=\"objectives\"></a>\n",
        "\n",
        "This notebook will showcase how to use Python to:\n",
        "\n",
        "- Generate random numbers:\n",
        "\n",
        "  - *uniform* random numbers between $\\small [0, 1]$.\n",
        "\n",
        "  - *uniform* random integers between a specified interval [`low`, `high`], where `low` and `high` are two integer values.\n",
        "\n",
        "- Plot a histogram of randomly generated numbers.\n",
        "\n",
        "- Simulate simple random events, such as:\n",
        "\n",
        "  - Tossing a *fair* coin $\\small n$ times\n",
        "\n",
        "  - Tossing a *biased* coin $\\small n$ times\n",
        "\n",
        "  - Tossing $\\small N$ *biased* coins $\\small n$ times\n",
        "\n",
        "  - Rolling a *fair* die $\\small n$ times\n",
        "\n",
        "  - *etc.*\n",
        "\n",
        "\n",
        "- Approximate probabilities (*i.e.*, the likelihood of an event occuring) of simple random events such as:\n",
        "\n",
        "  - If we roll two fair dice, which is more likely: a sum of 11 or a sum of 12?\n",
        "\n",
        "  - *etc.*\n",
        "\n",
        "In the process, the notebook *implicitly* provides you with a review of basics concepts of coding in Python, such as:\n",
        "\n",
        "- How to use Google Colab's notebook environment to write/run Python code.\n",
        "\n",
        "- How to import Python libraries such as NumPy and Matplotlib.\n",
        "\n",
        "- How to use NumPy to create arrays, including relevant topics associated with working with arrays, such as element indexing, slicing, fancy indexing, *etc.*\n",
        "\n",
        "- How to use Matplotlib to create basic visualizations such as line plots, histograms, *etc.*\n",
        "\n",
        "- How to use basic control flow (`if`, `elif`, `else`) and loops (`for`).\n",
        "\n",
        "- How to write vectorized code to avoid control flow and loops.\n",
        "\n",
        "- How to define a function in Python to avoid repeating a sequence of code.\n",
        "\n",
        "***"
      ],
      "metadata": {
        "id": "fB2RvKJri4Kl"
      }
    },
    {
      "cell_type": "markdown",
      "source": [
        "# <u> Part 1</u>: Notebook Basics <a name=\"notebook_basics\"></a>\n",
        "\n",
        "You are currently working in a online version of the [Jupyter notebook](https://jupyter.org/), which is hosted by Google. A notebook is an <u>interactive programming environment</u> that allows you to showcase your entire work in one document, including your code, documentation, equations, graphs, and even figures.\n",
        "\n",
        "<br>\n",
        "\n",
        "The benifits of working through [Google Colab](https://colab.research.google.com/?utm_source=scs-index) include:\n",
        "\n",
        "- No installation of Python (and packages) are generally required.\n",
        "\n",
        "- Notebooks are automatically saved to your Google Drive.\n",
        "\n",
        "- Ideal for group work (can share, edit/comment, just like in Google docs).\n",
        "\n",
        "\n",
        "To write Python code in Colab, all you need is a computer/tablet, a web browser, and an internet connection."
      ],
      "metadata": {
        "id": "fIVjWqBim-vP"
      }
    },
    {
      "cell_type": "markdown",
      "source": [
        "## Code and Text Cells <a name=\"code_and_text_cells\"></a>\n",
        "\n",
        "A notebook comprises of two types of cells:\n",
        "\n",
        "- *Code cell* - where you write your Python code.\n",
        "\n",
        "- *Text cell* - where you write plain text using [Markdown](https://colab.research.google.com/notebooks/markdown_guide.ipynb) and/or [HTML](https://en.wikipedia.org/wiki/HTML).\n",
        "\n",
        "<br>\n",
        "\n",
        "There are three ways to run a cell:\n",
        "\n",
        "1. Press `Shift+Enter` on your keyboard $\\rightarrow$ text and code cell.\n",
        "\n",
        "1. Press `Cmd/Ctrl+Enter` on your keyboard $\\rightarrow$ code cell.\n",
        "\n",
        "1. Press the play ▶️ button on the left of the cell\n",
        "$\\rightarrow$ code cell.\n",
        "\n",
        "You can see the contents of a text cell (such as this one), by double clicking on it.  To escape, press `shift+Enter`."
      ],
      "metadata": {
        "id": "yLKnPPZkSZaC"
      }
    },
    {
      "cell_type": "markdown",
      "source": [
        "## Notebook Not Working? <a name=\"notebook_not_working\"></a>\n",
        "\n",
        "If your notebook becomes unresponsive, select **Runtime** $\\rightarrow$ **Restart runtime** in the menu bar above.  \n",
        "\n",
        "- Keep this in mind, as this will become very handy throughout the semester.\n",
        "\n",
        "***"
      ],
      "metadata": {
        "id": "PEMUWnM0SkSy"
      }
    },
    {
      "cell_type": "markdown",
      "source": [
        "# <u>Part 2 </u>: Python Basics <a name=\"python_basics\"></a>\n",
        "\n",
        "We will opt to not explicitly review the Python programming language in this notebook.  Therefore, our discussion of Python in this section is brief (and perhaps incomplete).  We do this for several reasons:\n",
        "\n",
        "\n",
        "1. You will generally never use bare Python alone to perform basic probabilistic and statistical analysis tasks in ES150 (*i.e.*, it can be quite difficult and very inefficient).  The same can be said for almost every other engineering discipline that utilizes a form of computing to solve problems in Python.\n",
        "\n",
        "    - In fact, you may even be able to write all of your Python code without even using any of the bare Python programming language.  You do this by using third-party Python packages (see item 2 below).\n",
        "\n",
        "2. There exist many convenient <u>third-party Python packages/libraries</u> for us to use (see [Figure 1](#figure_1)).  When possible, it is recommended that you use these third-party packages, as they often run a pre-compiled C code behind the scenes (which is much faster than Python, which is a interpreted language).  We provide a list of a few packages that you should be aware of for ES150:  \n",
        "\n",
        "  - [NumPy](https://numpy.org/): A package for scientific computing.\n",
        "\n",
        "  - [SciPy](https://scipy.org/): A second package for scientific computing.\n",
        "\n",
        "  - [Pandas](https://pandas.pydata.org/): A package for data manipulation and analysis.\n",
        "\n",
        "  - [Matplotlib](https://matplotlib.org/): A package for general data visualization.\n",
        "\n",
        "\n",
        "\n",
        "<br>\n",
        "<blockquote> <a name=\"figure_1\"></a>\n",
        "<table>\n",
        "  <tr>\n",
        "    <th><center> <img align=\"middle\" width=55% height=auto src=\"https://drive.google.com/uc?export=view&id=1gmwRycVNwfChkEpN08CiINRjRKFXsKUB\">\n",
        "</center></th>\n",
        "    <th><center><img align=\"middle\" width=55% height=auto src=\"https://drive.google.com/uc?export=view&id=1dA3xbwLLi5O-aYqVPDLO0UrfwqDn3JG5\">\n",
        "</center></th>\n",
        "  </tr>\n",
        "  <tr>\n",
        "    <th><center><img align=\"middle\" width=25% height=auto src=\"https://scipy.org/images/logo.svg\">\n",
        "</center></th>\n",
        "    <th><center><img align=\"middle\" width=55% height=auto src=\"https://drive.google.com/uc?export=view&id=1nQJtE6nF9_oct5OvqKu8m065uFHcEvTx\">\n",
        "</center></th>\n",
        "  </tr>\n",
        "\n",
        "</table>\n",
        "<center>\n",
        "\n",
        "Figure 1: Commonly used Python packages.  The likelihood of using most of these packages in ES150 is very high!\n",
        "\n",
        "</center>\n",
        "</blockquote>\n",
        "<br>\n",
        "\n",
        "In the fairness of time, we refer you to the [Python Resources](#python_resources) section at the end of this notebook if you are new to Python (however, we recommend to not spend too much time doing so!).  We also note that some of the fundamental concepts of Python that are important will be implicitly shown in [Part 4](#coding_simple_probabilistic_concepts) of this notebook.  This include a showcase of how to implement control flows such as else-elif-else statements and for loops, as well as how to write Python functions.  This may be all that is required to code in Python.\n",
        "\n",
        "Lastly we make a few more remarks:\n",
        "\n",
        "- It is impossible to showcase how to use all of the packages listed above in this one notebook (let alone in all of the collective notebooks that you will work through in ES150).  Therefore, when use of a particular package is crucially important, we shall make it a priority to showcase the most relevant and important concepts of that package.\n",
        "\n",
        "- A large portion of this notebook is devoted to reviewing NumPy (see [Part 3](#numpy_basics) of this notebook).  The reason for this is that storing data in a NumPy array (*i.e.* using a `ndarray` object to store data) is the universal standard when working with numerical data in Python (as oppose to storing numerical data in a Python list).  NumPy and the NumPy array is so popular that it even serves as the basis for other commonly used Python packages, such as [Pandas](https://pandas.pydata.org/), [SciPy](https://scipy.org/), [Matplotlib](https://matplotlib.org/), [Scikit-Learn](https://scikit-learn.org/stable/), and much more.  For this reason, a review of how to use NumPy is crucially important for ES150.  \n",
        "\n",
        "\n",
        "Before moving on, we provide a brief review of how to import Libraries.\n",
        "\n"
      ],
      "metadata": {
        "id": "tVw2pm3qSsut"
      }
    },
    {
      "cell_type": "markdown",
      "source": [
        "## Importing Libraries <a name=\"importing_libraries\"></a>\n",
        "\n",
        "Python libraries must be imported before you can use them.  Run the cell below to import NumPy and Matplotlib.  Note that:  \n",
        "- Importing libraries are done once and at the beginning of a Python script or notebook.  \n",
        "\n",
        "- We have imported each of the packages using aliases.  These are aliases commonly used in the Python community."
      ],
      "metadata": {
        "id": "afL6iY6oW56I"
      }
    },
    {
      "cell_type": "code",
      "source": [
        "# Import Libraries:\n",
        "import numpy as np                  # Numerical Python\n",
        "import matplotlib.pyplot as plt     # Python library for data visualization"
      ],
      "metadata": {
        "id": "8su6Zj2ESsId"
      },
      "execution_count": 67,
      "outputs": []
    },
    {
      "cell_type": "markdown",
      "source": [
        "We are now ready to use these packages!\n",
        "\n",
        "***"
      ],
      "metadata": {
        "id": "NL0sQwTOXJWY"
      }
    },
    {
      "cell_type": "markdown",
      "source": [
        "# <u>Part 3 </u>: NumPy Basics <a name=\"numpy_basics\"></a>"
      ],
      "metadata": {
        "id": "whx26aV-dOBe"
      }
    },
    {
      "cell_type": "markdown",
      "source": [
        "## What is NumPy? <a name=\"what_is_numpy\"></a>\n",
        "\n",
        "NumPy (<b>Num</b>erical <b>Py</b>thon) is the fundamental package for scientific computing in Python.  It provides users with the multidimensional array object (called the `ndarray` object), as well as tools for performing fast mathematical operations on arrays.  As mentioned before, using the `ndarray` ojbect is the universal standard when working with numerical data in Python.  \n",
        "\n",
        "\n"
      ],
      "metadata": {
        "id": "wAd4_ONMVCHN"
      }
    },
    {
      "cell_type": "markdown",
      "source": [
        "## The `ndarray` Object <a name=\"ndarray_obj\"></a>\n",
        "\n",
        "NumPy's main data object is the `ndarray` object (or NumPy array).  You can think of a NumPy array as an optimized version of the Python list.  They differ in that all of the elements in a NumPy array must be the same datatype, while a Python list can contain different datatypes.  The NumPy array is thus a *homogenous multi-dimensional* array object.\n",
        "\n",
        "\n",
        "Working wtih NumPy arrays is more efficient (array operations are faster and consume less memory) and use less memory to store data, compared to the Python list.  This is why the NumPy array is the universal standard when working with numerical data in Python."
      ],
      "metadata": {
        "id": "4wnb9XQPajoL"
      }
    },
    {
      "cell_type": "markdown",
      "source": [
        "## Creating Arrays <a name=\"creating_arrays\"></a>\n",
        "\n",
        "There are many ways to create arrays.  Some functions are shown below:\n",
        "\n",
        "1. [`np.arange()`](https://numpy.org/doc/stable/reference/generated/numpy.arange.html): creates an array with a defined sequence.\n",
        "\n",
        "1. [`np.linspace()`](https://numpy.org/doc/stable/reference/generated/numpy.linspace.html): creates an array wtih evenly spaced numbers defined over a specified interval.  \n",
        "\n",
        "1. [`np.zeros()`](https://numpy.org/doc/stable/reference/generated/numpy.zeros.html): creates an array filled with zeros.\n",
        "\n",
        "1. [`np.ones()`](https://numpy.org/doc/stable/reference/generated/numpy.ones.html): creates an array filled with ones.\n",
        "\n",
        "1. [`np.eye()`](https://numpy.org/doc/stable/reference/generated/numpy.eye.html): creates an nxn Identity matrix.\n",
        "\n",
        "1. [`np.empty()`](https://numpy.org/doc/stable/reference/generated/numpy.empty.html): creates an array with random values.\n",
        "\n",
        "1. [`np.full()`](https://numpy.org/doc/stable/reference/generated/numpy.full.html): creates an nxn array filled with the given value.\n",
        "\n",
        "We provide just a few examples below:\n"
      ],
      "metadata": {
        "id": "Sn7_MwnTeOix"
      }
    },
    {
      "cell_type": "code",
      "source": [
        "# create a 5x5 array filled with ones:\n",
        "a = np.ones((5,5))\n",
        "print('a = ', a)"
      ],
      "metadata": {
        "colab": {
          "base_uri": "https://localhost:8080/"
        },
        "id": "yeYhx-SWuAGS",
        "outputId": "b66d7749-e3cb-470d-9616-b79cbf710dbc"
      },
      "execution_count": 68,
      "outputs": [
        {
          "output_type": "stream",
          "name": "stdout",
          "text": [
            "a =  [[1. 1. 1. 1. 1.]\n",
            " [1. 1. 1. 1. 1.]\n",
            " [1. 1. 1. 1. 1.]\n",
            " [1. 1. 1. 1. 1.]\n",
            " [1. 1. 1. 1. 1.]]\n"
          ]
        }
      ]
    },
    {
      "cell_type": "code",
      "source": [
        "# Create a 3x3 identity array with a value of 4.5 in the diagonal:\n",
        "b = np.eye(3, dtype=float)*4.5\n",
        "print('b =', b)"
      ],
      "metadata": {
        "colab": {
          "base_uri": "https://localhost:8080/"
        },
        "id": "Og_9DwL-uIHi",
        "outputId": "6a1cb4f8-4ee5-4332-d617-8d885aad12f8"
      },
      "execution_count": 69,
      "outputs": [
        {
          "output_type": "stream",
          "name": "stdout",
          "text": [
            "b = [[4.5 0.  0. ]\n",
            " [0.  4.5 0. ]\n",
            " [0.  0.  4.5]]\n"
          ]
        }
      ]
    },
    {
      "cell_type": "code",
      "source": [
        "# Create a linearly spaced array starting from 2.0 up to 3.3, with 10 elements:\n",
        "c = np.linspace(2.0, 3.3, num=10)\n",
        "print('c =', c)"
      ],
      "metadata": {
        "colab": {
          "base_uri": "https://localhost:8080/"
        },
        "id": "yjzlVf1auJSF",
        "outputId": "6e211dd8-c84f-4238-89d4-57e14461b016"
      },
      "execution_count": 70,
      "outputs": [
        {
          "output_type": "stream",
          "name": "stdout",
          "text": [
            "c = [2.         2.14444444 2.28888889 2.43333333 2.57777778 2.72222222\n",
            " 2.86666667 3.01111111 3.15555556 3.3       ]\n"
          ]
        }
      ]
    },
    {
      "cell_type": "markdown",
      "source": [
        "## Creating Random Arrays <a name=\"random_arrays\"></a>\n",
        "\n",
        "For ES150 we are generally more interested in generating random values (and storing these values in a NumPy array).  There are several functions that generate an array of random values:\n",
        "\n",
        "1. [`random.randint()`](https://numpy.org/doc/stable/reference/random/generated/numpy.random.randint.html): Creates an array filled with *uniform* random integers between a specified interval [`low`, `high`], where `low` and `high` are two integer values.\n",
        "\n",
        "1. [`random.rand()`](https://numpy.org/doc/stable/reference/random/generated/numpy.random.rand.html): Creates an array filled with *uniform* random numbers between $\\small [0, 1)$.\n",
        "\n",
        "\n",
        "\n",
        "We showcase each method below:\n"
      ],
      "metadata": {
        "id": "zBrMELQRt1y9"
      }
    },
    {
      "cell_type": "code",
      "source": [
        "# Create a random array with values uniformly distributed from [0, 1) of size 4x5:\n",
        "A = np.random.rand(4, 5)\n",
        "print(A)"
      ],
      "metadata": {
        "colab": {
          "base_uri": "https://localhost:8080/"
        },
        "id": "lS16BlY-gDvg",
        "outputId": "0df6f010-eefe-49e3-b6c6-83ecd688765d"
      },
      "execution_count": 71,
      "outputs": [
        {
          "output_type": "stream",
          "name": "stdout",
          "text": [
            "[[0.59859261 0.99343748 0.6355909  0.5319383  0.91393796]\n",
            " [0.03732263 0.10289198 0.46149755 0.05430252 0.44716183]\n",
            " [0.55089754 0.51870714 0.41243628 0.38339895 0.81658279]\n",
            " [0.17761636 0.83769305 0.61029595 0.71873433 0.09724648]]\n"
          ]
        }
      ]
    },
    {
      "cell_type": "code",
      "source": [
        "# Create a random array of integers between 1 (inclusive) and 7 (exclusive), of size 10:\n",
        "B = np.random.randint(low=1, high=7, size=20)\n",
        "print(B)"
      ],
      "metadata": {
        "colab": {
          "base_uri": "https://localhost:8080/"
        },
        "id": "94VnklFlgNJD",
        "outputId": "d00c8fd1-86c0-4646-85a4-dc624afc1e44"
      },
      "execution_count": 72,
      "outputs": [
        {
          "output_type": "stream",
          "name": "stdout",
          "text": [
            "[4 4 4 2 3 2 3 1 5 5 6 3 3 1 1 1 5 6 6 5]\n"
          ]
        }
      ]
    },
    {
      "cell_type": "markdown",
      "source": [
        "## Histograms <a name=\"histograms\"></a>\n",
        "\n",
        "You may naturally wonder about the distribution of the data stored in each of the random arrays above.  That is, are there certain ranges of the values that are more likely than others?  This is what a *histogram* shows.  We deviate just a bit to showcase how Matplotlib can be used to plot the distribution of a few random arrays:"
      ],
      "metadata": {
        "id": "tJZIiHeogwJD"
      }
    },
    {
      "cell_type": "code",
      "source": [
        "# Create a random array of integers between 1 (inclusive) and 7 (exclusive), of size 1 million:\n",
        "B = np.random.randint(low=1, high=7, size=int(1e6))  # equivalent to rolling a fair 6-sided die a million times:\n",
        "\n",
        "# Plot the histogram (Note that we have already imported matplotlib)\n",
        "plt.hist(B, bins=np.arange(1, 8) - 0.5, edgecolor='black', alpha=0.7)  # adujust bins parameter appropriately!\n",
        "plt.title('Outcome of Randomly Selecting from {1, 2, 3, 4, 5, 6}, 1 Million Times')\n",
        "plt.xlabel('Outcome')\n",
        "plt.ylabel('Frequency')\n",
        "plt.show()\n"
      ],
      "metadata": {
        "colab": {
          "base_uri": "https://localhost:8080/",
          "height": 472
        },
        "id": "T3zAfXqUutqi",
        "outputId": "63efef8a-8422-4777-ca48-feb36cfcea13"
      },
      "execution_count": 73,
      "outputs": [
        {
          "output_type": "display_data",
          "data": {
            "text/plain": [
              "<Figure size 640x480 with 1 Axes>"
            ],
            "image/png": "[encoded data removed]"
          },
          "metadata": {}
        }
      ]
    },
    {
      "cell_type": "markdown",
      "source": [
        "This makes sense!  We randomly selected a value from {1, 2, 3, 4, 5, 6}, where the likelihood of selecting either choice was uniform across all outcomes."
      ],
      "metadata": {
        "id": "k-4MqvuuvfrU"
      }
    },
    {
      "cell_type": "code",
      "source": [
        "# Create a random array with values taken from a \"standard normal distribution\" of size 1 million:\n",
        "C = np.random.randn(int(1e6))\n",
        "\n",
        "# Plot the histogram (Note that we have already imported matplotlib)\n",
        "plt.hist(C, bins=20, edgecolor='black', alpha=0.7)  # adjust bins parameter appropriately!\n",
        "plt.xlabel('Bins')\n",
        "plt.ylabel('Frequency')\n",
        "plt.show()"
      ],
      "metadata": {
        "colab": {
          "base_uri": "https://localhost:8080/",
          "height": 449
        },
        "id": "UmAg9OaHvaEW",
        "outputId": "092c0a61-0d6c-496b-85b6-bdddebb3635f"
      },
      "execution_count": 74,
      "outputs": [
        {
          "output_type": "display_data",
          "data": {
            "text/plain": [
              "<Figure size 640x480 with 1 Axes>"
            ],
            "image/png": "[encoded data removed]"
          },
          "metadata": {}
        }
      ]
    },
    {
      "cell_type": "markdown",
      "source": [
        "You will learn later in ES150 about the standard normal distribution.  Essentially it shows that values close to 0 are more likely than other values.  "
      ],
      "metadata": {
        "id": "z_illSA7wRLi"
      }
    },
    {
      "cell_type": "markdown",
      "source": [
        "## Array Attributes <a name=\"array_attributes\"></a>\n",
        "\n",
        "Attributes provides the user the ability to get more information about a NumPy array.  As a good Python programmer, you should be employing these attributes fairly frequently whenever you are coding using NumPy.\n",
        "\n",
        "There are numerous NumPy attributes to be aware of:\n",
        "\n",
        "- [`.size`](https://numpy.org/doc/stable/reference/generated/numpy.ndarray.size.html): returns the number of elements in the array.\n",
        "\n",
        "- [`.dtype`](https://numpy.org/doc/stable/reference/generated/numpy.dtype.html): returns the datatype of each element.\n",
        "\n",
        "- [`.ndim`](https://numpy.org/doc/stable/reference/generated/numpy.ndarray.ndim.html): returns the number of dimensions.\n",
        "\n",
        "- [`.shape`](https://numpy.org/doc/stable/reference/generated/numpy.ndarray.shape.html): returns the shape (in a tuple).\n",
        "\n",
        "We'll showcase each attribute below on a newly defined array `R` defined below.  As you work through each attribute, try to reason through the output and if unclear, please discuss with a peer or ask during Office Hours.\n"
      ],
      "metadata": {
        "id": "LNCFAe0BZ34S"
      }
    },
    {
      "cell_type": "code",
      "source": [
        "# Create a random array of integers:\n",
        "R = np.random.randint(low=2, high=100, size=(20,3))\n",
        "print(R)"
      ],
      "metadata": {
        "colab": {
          "base_uri": "https://localhost:8080/"
        },
        "id": "OVrhZ7R9dkbE",
        "outputId": "54e0c159-57d6-48af-c6d3-739471242c4f"
      },
      "execution_count": 75,
      "outputs": [
        {
          "output_type": "stream",
          "name": "stdout",
          "text": [
            "[[55  2 45]\n",
            " [90 17 68]\n",
            " [82 25 55]\n",
            " [10 64  7]\n",
            " [40 71 72]\n",
            " [74 27 53]\n",
            " [28 51 41]\n",
            " [33 54 62]\n",
            " [61 28  5]\n",
            " [67 69 62]\n",
            " [63 25 23]\n",
            " [32 25 74]\n",
            " [83 57 98]\n",
            " [27 24 91]\n",
            " [14 51 21]\n",
            " [82 94 44]\n",
            " [83 48 80]\n",
            " [45 59 53]\n",
            " [11  7 62]\n",
            " [81  3 22]]\n"
          ]
        }
      ]
    },
    {
      "cell_type": "code",
      "source": [
        "# Check the array size: .size\n",
        "R.size"
      ],
      "metadata": {
        "colab": {
          "base_uri": "https://localhost:8080/"
        },
        "id": "hCJ3xQu4isZC",
        "outputId": "b888f678-9a72-47cd-970e-1dda96de46a3"
      },
      "execution_count": 76,
      "outputs": [
        {
          "output_type": "execute_result",
          "data": {
            "text/plain": [
              "60"
            ]
          },
          "metadata": {},
          "execution_count": 76
        }
      ]
    },
    {
      "cell_type": "code",
      "source": [
        "# Check the datatype: .dtype\n",
        "R.dtype"
      ],
      "metadata": {
        "colab": {
          "base_uri": "https://localhost:8080/"
        },
        "id": "hGsqo_fiiiqB",
        "outputId": "e3820615-eb70-49c3-d7b5-81d3c259bf4d"
      },
      "execution_count": 77,
      "outputs": [
        {
          "output_type": "execute_result",
          "data": {
            "text/plain": [
              "dtype('int64')"
            ]
          },
          "metadata": {},
          "execution_count": 77
        }
      ]
    },
    {
      "cell_type": "code",
      "source": [
        "# Check the number of dimensions: .ndim\n",
        "R.ndim"
      ],
      "metadata": {
        "colab": {
          "base_uri": "https://localhost:8080/"
        },
        "id": "OdbLWT_5ilTV",
        "outputId": "ad7a9c0b-74d2-46e2-e3ee-6cdfd59b098f"
      },
      "execution_count": 78,
      "outputs": [
        {
          "output_type": "execute_result",
          "data": {
            "text/plain": [
              "2"
            ]
          },
          "metadata": {},
          "execution_count": 78
        }
      ]
    },
    {
      "cell_type": "code",
      "source": [
        "# Check the array shape: .shape\n",
        "R.shape"
      ],
      "metadata": {
        "colab": {
          "base_uri": "https://localhost:8080/"
        },
        "id": "0Eo0os6Aioog",
        "outputId": "c5e1b4e6-3ef9-41ea-e650-f45f9f44f321"
      },
      "execution_count": 79,
      "outputs": [
        {
          "output_type": "execute_result",
          "data": {
            "text/plain": [
              "(20, 3)"
            ]
          },
          "metadata": {},
          "execution_count": 79
        }
      ]
    },
    {
      "cell_type": "markdown",
      "source": [
        "> #### 🔑 **NOTE**: Perhaps the most important NumPy attribute is `.shape`, as you'll find yourself consistenly printing the shape of NumPy arrays as you code using NumPy."
      ],
      "metadata": {
        "id": "HmwUnAV6jDg6"
      }
    },
    {
      "cell_type": "markdown",
      "source": [
        "## Array Operations <a name=\"array_oper\"></a>\n",
        "\n",
        "Arithmetic operations using arrays are done element-wise (unless you are explicitly doing matrix algebra).  We briefly demonstrate a few examples below:"
      ],
      "metadata": {
        "id": "L3zYTBd3jIXN"
      }
    },
    {
      "cell_type": "code",
      "source": [
        "# Define two arrays:\n",
        "x = np.ones(5, dtype=int)*10      # Equivalent: x = np.array([10, 10, 10, 10, 10])\n",
        "y = np.arange(5)                  # Equivalent: y = np.array([1, 2, 3, 4, 5])\n",
        "\n",
        "print(x)\n",
        "print(y)"
      ],
      "metadata": {
        "colab": {
          "base_uri": "https://localhost:8080/"
        },
        "id": "At9BtdYyjT6U",
        "outputId": "5b763551-a52c-4447-9ba0-d11d41bde993"
      },
      "execution_count": 80,
      "outputs": [
        {
          "output_type": "stream",
          "name": "stdout",
          "text": [
            "[10 10 10 10 10]\n",
            "[0 1 2 3 4]\n"
          ]
        }
      ]
    },
    {
      "cell_type": "code",
      "source": [
        "# Add two arrays:\n",
        "x+y"
      ],
      "metadata": {
        "colab": {
          "base_uri": "https://localhost:8080/"
        },
        "id": "_1OrwhN2jWli",
        "outputId": "e7dfd46f-080f-4664-b6f5-a026c71d0946"
      },
      "execution_count": 81,
      "outputs": [
        {
          "output_type": "execute_result",
          "data": {
            "text/plain": [
              "array([10, 11, 12, 13, 14])"
            ]
          },
          "metadata": {},
          "execution_count": 81
        }
      ]
    },
    {
      "cell_type": "code",
      "source": [
        "# multiply two arrays:\n",
        "x*y"
      ],
      "metadata": {
        "colab": {
          "base_uri": "https://localhost:8080/"
        },
        "id": "fnM2ktS5jYR8",
        "outputId": "3f58069a-e191-4312-e9be-6a7f50aa49f5"
      },
      "execution_count": 82,
      "outputs": [
        {
          "output_type": "execute_result",
          "data": {
            "text/plain": [
              "array([ 0, 10, 20, 30, 40])"
            ]
          },
          "metadata": {},
          "execution_count": 82
        }
      ]
    },
    {
      "cell_type": "markdown",
      "source": [
        "Note that the arithmetic operations are applied to arrays of the same shape.  \n",
        "\n",
        "<br>\n",
        "\n",
        "> #### 🔑 **NOTE**: There are instances where operations can be applied to arrays of different shapes, provided that they are compatible.  This is called [broadcasting](https://numpy.org/doc/stable/user/basics.broadcasting.html).  We won't formally talk about broadcasting in this notebook."
      ],
      "metadata": {
        "id": "R7gqK6fKjgDr"
      }
    },
    {
      "cell_type": "markdown",
      "source": [
        "## Common Mathematical Funcitions <a name=\"common_mathematical_fnc\"></a>\n",
        "\n",
        "This element-wise behavior also exists when using built-in NumPy functions. For example, NumPy has built-in functions for common mathematical operations such as $\\small \\mathrm{sin()}$, $\\small \\mathrm{exp()}$, $\\small \\mathrm{log()}$, *etc.*  \n",
        "\n",
        "The code cells below show a few examples of mathematical functions applied to `x`:"
      ],
      "metadata": {
        "id": "9Jx8jTPPjvRy"
      }
    },
    {
      "cell_type": "code",
      "source": [
        "# exp(x):\n",
        "np.exp(x)"
      ],
      "metadata": {
        "colab": {
          "base_uri": "https://localhost:8080/"
        },
        "id": "NYLCHzcpjuub",
        "outputId": "5f4d4779-4a93-4a1a-b114-cd95d935033e"
      },
      "execution_count": 83,
      "outputs": [
        {
          "output_type": "execute_result",
          "data": {
            "text/plain": [
              "array([22026.46579481, 22026.46579481, 22026.46579481, 22026.46579481,\n",
              "       22026.46579481])"
            ]
          },
          "metadata": {},
          "execution_count": 83
        }
      ]
    },
    {
      "cell_type": "code",
      "source": [
        "# sin(y):\n",
        "np.sin(y)"
      ],
      "metadata": {
        "colab": {
          "base_uri": "https://localhost:8080/"
        },
        "id": "pnwyuhCekZn0",
        "outputId": "b56e2e96-0d56-4936-9ebb-b9b18ab9df0c"
      },
      "execution_count": 84,
      "outputs": [
        {
          "output_type": "execute_result",
          "data": {
            "text/plain": [
              "array([ 0.        ,  0.84147098,  0.90929743,  0.14112001, -0.7568025 ])"
            ]
          },
          "metadata": {},
          "execution_count": 84
        }
      ]
    },
    {
      "cell_type": "code",
      "source": [
        "# sqrt(x)\n",
        "np.sqrt(x)"
      ],
      "metadata": {
        "colab": {
          "base_uri": "https://localhost:8080/"
        },
        "id": "Bgm3lQlvkbJA",
        "outputId": "a445d920-7be7-4215-aec3-3842d851af05"
      },
      "execution_count": 85,
      "outputs": [
        {
          "output_type": "execute_result",
          "data": {
            "text/plain": [
              "array([3.16227766, 3.16227766, 3.16227766, 3.16227766, 3.16227766])"
            ]
          },
          "metadata": {},
          "execution_count": 85
        }
      ]
    },
    {
      "cell_type": "markdown",
      "source": [
        "\n",
        "<blockquote>\n",
        "\n",
        "#### 🔑 **NOTE**:  Never use any of the math functions provided by the Python [Math module](https://docs.python.org/3/library/math.html)! Instead, always use the equivalent NumPy function (even if applied to a scalar!), since these functions have been optimized to work using NumPy arrays, and will work much faster.  \n",
        "\n",
        "- For *e.g.*, use `np.exp()`, rather than `math.exp().`\n",
        "\n",
        "</blockquote>"
      ],
      "metadata": {
        "id": "i1ltKKkGkerK"
      }
    },
    {
      "cell_type": "markdown",
      "source": [
        "## Other Mathematical Functions <a name=\"other_comm_math_fnc\"></a>\n",
        "\n",
        "NumPy also provides other built-in math functions (see [here](https://numpy.org/doc/stable/reference/routines.math.html) for a complete list).  These are called *universal functions* (ufuncs), and have been optimized to work fast on NumPy arrays. Ufuncs are also applied element-by-element!\n",
        "\n",
        "Some commonly used math functions are provided below:\n",
        "\n",
        "- [`np.sum()`](https://numpy.org/doc/stable/reference/generated/numpy.sum.html): Sum of array elements over a given axis.\n",
        "\n",
        "- [`np.prod`](https://numpy.org/doc/stable/reference/generated/numpy.prod.html): Returns the product of array elements over a given axis.\n",
        "\n",
        "- [`np.diff()`](https://numpy.org/doc/stable/reference/generated/numpy.diff.html): Calculates the n-th discrete difference along the given axis (used for e.g., to calculate the derivative of discrete data).\n",
        "\n",
        "- [`np.min()`](https://numpy.org/doc/stable/reference/generated/numpy.min.html): Returns the minimum of an array or minimum along an axis.\n",
        "\n",
        "- [`np.max()`](https://numpy.org/doc/stable/reference/generated/numpy.max.html): Return the maximum of an array or maximum along an axis.\n",
        "\n",
        "- [`np.argmin()`](https://numpy.org/doc/stable/reference/generated/numpy.argmin.html): returns the indices of the minimum values along an axis.\n",
        "\n",
        "- [`np.argmax()`](https://numpy.org/doc/stable/reference/generated/numpy.argmax.html): Returns the indices of the maximum values along an axis."
      ],
      "metadata": {
        "id": "Wcm4bhbGkKSf"
      }
    },
    {
      "cell_type": "markdown",
      "source": [
        "## Statistics Method on Arrays <a name=\"stat_methods\"></a>\n",
        "\n",
        "A complete list of NumPy statistic routines can be found [here](https://numpy.org/doc/stable/reference/routines.statistics.html).  Some of the most commonly used statistical methods are listed below:\n",
        "\n",
        "- [`np.mean()`](https://numpy.org/doc/stable/reference/generated/numpy.mean.html): returns the arithmetic mean along the specified axis.\n",
        "\n",
        "- [`np.std()`](https://numpy.org/doc/stable/reference/generated/numpy.std.html): Returns the standard deviation along the specified axis.\n",
        "\n",
        "- [`np.var()`](https://numpy.org/doc/stable/reference/generated/numpy.var.html): Returns the variance along the specified axis.\n",
        "\n",
        "You will learn more about statistical methods during ES150!\n",
        "\n",
        "Note that there are ways to apply these functions to get the mean (for example) of each row (or column) of an 2D array, *etc.*, which is what you will be asked to do in the next exercise:"
      ],
      "metadata": {
        "id": "BDqWNfRflfRQ"
      }
    },
    {
      "cell_type": "markdown",
      "source": [
        "***\n",
        "### 🛠 Exercise  1 (3 minutes) <a name=\"exercise_2\"></a>\n",
        "\n",
        "a) Compute the mean and standard deviation of each row of the matrix $\\mathbf{X}$ given by:\n",
        "\n",
        "<br>\n",
        "\n",
        "$$\n",
        "\\mathbf{X} =\n",
        "\\begin{bmatrix}\n",
        "12.3 & 12.7 & 13.8\\\\\n",
        "10.3 & 10.2 & 9.2 \\\\\n",
        "100.2 & 101.2 & 107.5 \\\\\n",
        "\\end{bmatrix}\n",
        "$$\n",
        "\n",
        "<br>\n",
        "\n",
        "**HINT**:\n",
        "You can define the array in NumPy using:\n",
        "\n",
        "```python\n",
        "X = np.array([\n",
        "    [12.3, 12.7, 13.8],\n",
        "    [10.3, 10.2, 9.2],\n",
        "    [100.2, 101.2, 107.5 ]\n",
        "\n",
        "  \n",
        "])\n",
        "```\n"
      ],
      "metadata": {
        "id": "9LI8QoXtlqpX"
      }
    },
    {
      "cell_type": "code",
      "source": [
        "X = np.array([\n",
        "    [12.3, 12.7, 13.8],\n",
        "    [10.3, 10.2, 9.2],\n",
        "    [100.2, 101.2, 107.5 ]\n",
        "\n",
        "])\n",
        "\n",
        "mean = np.mean(X)\n",
        "std_dev = np.std(X)\n",
        "print(mean)\n",
        "print(std_dev)"
      ],
      "metadata": {
        "colab": {
          "base_uri": "https://localhost:8080/"
        },
        "id": "TkzfCN3_emp1",
        "outputId": "5246e4f9-f168-4168-d95b-75169ea5b1a3"
      },
      "execution_count": 86,
      "outputs": [
        {
          "output_type": "stream",
          "name": "stdout",
          "text": [
            "41.93333333333334\n",
            "43.21764043124572\n"
          ]
        }
      ]
    },
    {
      "cell_type": "markdown",
      "source": [
        "## Rest\n",
        "Take a rest and recharge before moving on to the next section!\n",
        "\n"
      ],
      "metadata": {
        "id": "fUbHDQkzmbCr"
      }
    },
    {
      "cell_type": "markdown",
      "source": [
        "## Single Element Indexing <a name=\"sing_elem_index\"></a>\n",
        "\n",
        "Understanding array indexing is crucial for working with NumPy arrays. Array indexing in NumPy is the same as list indexing in Python.  Note that indexing also starts at 0.  We demonstrate a few examples of indexing below:"
      ],
      "metadata": {
        "id": "UHvvBUkdmsHe"
      }
    },
    {
      "cell_type": "code",
      "source": [
        "# Create array:\n",
        "x = np.arange(10)\n",
        "print(x)"
      ],
      "metadata": {
        "colab": {
          "base_uri": "https://localhost:8080/"
        },
        "id": "VxKDymvOmqoX",
        "outputId": "8fccb6cf-bc2a-4416-99e6-7f44867d85e9"
      },
      "execution_count": 87,
      "outputs": [
        {
          "output_type": "stream",
          "name": "stdout",
          "text": [
            "[0 1 2 3 4 5 6 7 8 9]\n"
          ]
        }
      ]
    },
    {
      "cell_type": "code",
      "source": [
        "# Index the first element (index 0):\n",
        "x[0]"
      ],
      "metadata": {
        "colab": {
          "base_uri": "https://localhost:8080/"
        },
        "id": "cvhDf0f5nKGZ",
        "outputId": "57b3a2d9-b7cf-4ea2-8f6c-910b47845c58"
      },
      "execution_count": 88,
      "outputs": [
        {
          "output_type": "execute_result",
          "data": {
            "text/plain": [
              "0"
            ]
          },
          "metadata": {},
          "execution_count": 88
        }
      ]
    },
    {
      "cell_type": "code",
      "source": [
        "# Index the third element (index 2):\n",
        "x[2]"
      ],
      "metadata": {
        "colab": {
          "base_uri": "https://localhost:8080/"
        },
        "id": "l18l0l5LnLZH",
        "outputId": "1e441920-6035-444d-e3ca-30b2cf8e83f3"
      },
      "execution_count": 89,
      "outputs": [
        {
          "output_type": "execute_result",
          "data": {
            "text/plain": [
              "2"
            ]
          },
          "metadata": {},
          "execution_count": 89
        }
      ]
    },
    {
      "cell_type": "code",
      "source": [
        "# Index the last element:\n",
        "x[-1]"
      ],
      "metadata": {
        "colab": {
          "base_uri": "https://localhost:8080/"
        },
        "id": "dIVjD1RtnOms",
        "outputId": "68fc8479-f1a8-4a43-e687-5a522df07537"
      },
      "execution_count": 90,
      "outputs": [
        {
          "output_type": "execute_result",
          "data": {
            "text/plain": [
              "9"
            ]
          },
          "metadata": {},
          "execution_count": 90
        }
      ]
    },
    {
      "cell_type": "markdown",
      "source": [
        "## Setting/Assigning Array Elements <a name=\"set_ass_array_elem\"></a>\n",
        "\n",
        "We can set the elements of arrays which are already defined by first indexing the element, and then re-assigning the value."
      ],
      "metadata": {
        "id": "GWHSqXCHnR5S"
      }
    },
    {
      "cell_type": "code",
      "source": [
        "# Create array:\n",
        "x = np.arange(10)\n",
        "\n",
        "print(x)"
      ],
      "metadata": {
        "colab": {
          "base_uri": "https://localhost:8080/"
        },
        "id": "sS7QLM1_nT0h",
        "outputId": "649a54fa-51c0-483b-f54c-e5db804b7245"
      },
      "execution_count": 91,
      "outputs": [
        {
          "output_type": "stream",
          "name": "stdout",
          "text": [
            "[0 1 2 3 4 5 6 7 8 9]\n"
          ]
        }
      ]
    },
    {
      "cell_type": "code",
      "source": [
        "# Let's set the 2nd element (index 1) to -22\n",
        "x[1] = -22\n",
        "\n",
        "print(x)"
      ],
      "metadata": {
        "colab": {
          "base_uri": "https://localhost:8080/"
        },
        "id": "WBWnIFBsnVYf",
        "outputId": "4a6aec99-cb87-4450-ec96-92c9c9fb04ac"
      },
      "execution_count": 92,
      "outputs": [
        {
          "output_type": "stream",
          "name": "stdout",
          "text": [
            "[  0 -22   2   3   4   5   6   7   8   9]\n"
          ]
        }
      ]
    },
    {
      "cell_type": "markdown",
      "source": [
        "\n",
        "> #### 🚧 **BEWARE**: If you assign a float to an array of int elements, the decimal parts will be truncated!  This is called **type coercion**.  See below:"
      ],
      "metadata": {
        "id": "zv4tgtdTnXpp"
      }
    },
    {
      "cell_type": "code",
      "source": [
        "# Let's set the last element to pi (np.pi)\n",
        "x[-1] = np.pi\n",
        "\n",
        "print(x)  # The last element will contain 3, not 3.14..."
      ],
      "metadata": {
        "id": "EaVttS64nZfB",
        "colab": {
          "base_uri": "https://localhost:8080/"
        },
        "outputId": "8b7e21f2-1d26-4580-97c2-7fd8cd68a9f6"
      },
      "execution_count": 93,
      "outputs": [
        {
          "output_type": "stream",
          "name": "stdout",
          "text": [
            "[  0 -22   2   3   4   5   6   7   8   3]\n"
          ]
        }
      ]
    },
    {
      "cell_type": "markdown",
      "source": [
        "***\n",
        "### 🛠 Exercise  2 (5 mins) <a name=\"exercise_3\"></a>\n",
        "\n",
        "a\\) Define a two-dimensional NumPy array with values:\n",
        "\n",
        "<br>\n",
        "\n",
        "$$\n",
        "\\mathbf{X} =\n",
        "\\begin{bmatrix}\n",
        "1 & 2 & 3\\\\\n",
        "10 & 20 & 30 \\\\\n",
        "100 & 200 & 300 \\\\\n",
        "\\end{bmatrix}\n",
        "$$\n",
        "\n",
        "<br>\n",
        "\n",
        "b\\) Print the shape, size, and number of dimensions of $\\mathbf{X}$.\n",
        "\n",
        "c\\) Index the value `20`, and set to 42.  You will need to supply two indeces (i.e., `X[i,j]`)."
      ],
      "metadata": {
        "id": "WqXjTFikndMj"
      }
    },
    {
      "cell_type": "code",
      "source": [
        "arr = np.array([[1, 2, 3],\n",
        "             [10, 20, 30],\n",
        "             [100, 200, 300]\n",
        "              ])\n",
        "\n",
        "print(np.shape(arr))\n",
        "print(np.size(arr))\n",
        "print(np.ndim(arr))\n",
        "arr[1,1] = 42\n",
        "\n",
        "print(arr)"
      ],
      "metadata": {
        "colab": {
          "base_uri": "https://localhost:8080/"
        },
        "id": "4h_RI0_cfIGm",
        "outputId": "68d3ee2e-f455-4f25-c17e-e7aafd112d6d"
      },
      "execution_count": 94,
      "outputs": [
        {
          "output_type": "stream",
          "name": "stdout",
          "text": [
            "(3, 3)\n",
            "9\n",
            "2\n",
            "[[  1   2   3]\n",
            " [ 10  42  30]\n",
            " [100 200 300]]\n"
          ]
        }
      ]
    },
    {
      "cell_type": "markdown",
      "source": [
        "## Indexing Multi-Dimensional Arrays <a name=\"index_multi_dim\"></a>\n",
        "\n",
        "We'll demonstrate a fairly simple indexing of a multi-dimensional array.  The concept is similar with higher dimensions.\n"
      ],
      "metadata": {
        "id": "Zv330ZkXnvb1"
      }
    },
    {
      "cell_type": "code",
      "source": [
        "# Define 2D array:\n",
        "A = np.arange(1, 31).reshape((3, 10))\n",
        "print(A)"
      ],
      "metadata": {
        "colab": {
          "base_uri": "https://localhost:8080/"
        },
        "id": "c3IzUaydnysh",
        "outputId": "7d19daa5-6fe9-4f60-daf2-0791c307f7d6"
      },
      "execution_count": 95,
      "outputs": [
        {
          "output_type": "stream",
          "name": "stdout",
          "text": [
            "[[ 1  2  3  4  5  6  7  8  9 10]\n",
            " [11 12 13 14 15 16 17 18 19 20]\n",
            " [21 22 23 24 25 26 27 28 29 30]]\n"
          ]
        }
      ]
    },
    {
      "cell_type": "code",
      "source": [
        "# Index second row:\n",
        "A[1]     # Equivalent A[1,:]"
      ],
      "metadata": {
        "colab": {
          "base_uri": "https://localhost:8080/"
        },
        "id": "G6fZU_DYnztx",
        "outputId": "e57db975-cfb5-4ff6-8b69-5aa18790565b"
      },
      "execution_count": 96,
      "outputs": [
        {
          "output_type": "execute_result",
          "data": {
            "text/plain": [
              "array([11, 12, 13, 14, 15, 16, 17, 18, 19, 20])"
            ]
          },
          "metadata": {},
          "execution_count": 96
        }
      ]
    },
    {
      "cell_type": "code",
      "source": [
        "# Index 2nd column:\n",
        "A[:,1]"
      ],
      "metadata": {
        "colab": {
          "base_uri": "https://localhost:8080/"
        },
        "id": "fVl4xl00n11y",
        "outputId": "3f8649b1-245e-4288-a334-95e566209da2"
      },
      "execution_count": 97,
      "outputs": [
        {
          "output_type": "execute_result",
          "data": {
            "text/plain": [
              "array([ 2, 12, 22])"
            ]
          },
          "metadata": {},
          "execution_count": 97
        }
      ]
    },
    {
      "cell_type": "markdown",
      "source": [
        "## Slicing <a name=\"slicing\"></a>\n",
        "\n",
        "\n",
        "Slicing allows you to extract a portion of your array by supplying the lower and upper bound (as well as the step size):\n",
        "\n",
        "- `X[lower:upper:step]`\n",
        "- Note that element corresponding to the upper bound is not included in the slice.  We'll show what this means through an example:"
      ],
      "metadata": {
        "id": "eK7QGca0n4PT"
      }
    },
    {
      "cell_type": "code",
      "source": [
        "# Create array:\n",
        "a = np.arange(10, 21)\n",
        "print(a)"
      ],
      "metadata": {
        "colab": {
          "base_uri": "https://localhost:8080/"
        },
        "id": "edHgDcpnn6dn",
        "outputId": "5ee3430f-d2d7-43db-8f1d-432444be6985"
      },
      "execution_count": 98,
      "outputs": [
        {
          "output_type": "stream",
          "name": "stdout",
          "text": [
            "[10 11 12 13 14 15 16 17 18 19 20]\n"
          ]
        }
      ]
    },
    {
      "cell_type": "code",
      "source": [
        "# Slice 2nd element (index 1) to 5th element (index 4):\n",
        "a[1:5]"
      ],
      "metadata": {
        "colab": {
          "base_uri": "https://localhost:8080/"
        },
        "id": "K1HBY-Yrn8GY",
        "outputId": "564792eb-4f46-4ad8-c995-595fe01d37a5"
      },
      "execution_count": 99,
      "outputs": [
        {
          "output_type": "execute_result",
          "data": {
            "text/plain": [
              "array([11, 12, 13, 14])"
            ]
          },
          "metadata": {},
          "execution_count": 99
        }
      ]
    },
    {
      "cell_type": "markdown",
      "source": [
        "Our slice was from `1:5`, but only elements of index `1`, `2`, `3`, and `4` was included (and not the element of index `5`)."
      ],
      "metadata": {
        "id": "DJzl_zLkn57k"
      }
    },
    {
      "cell_type": "code",
      "source": [
        "# Use negative indices to slice 2nd element (index 1) to 5th element (index 4):\n",
        "a[1:-6]"
      ],
      "metadata": {
        "colab": {
          "base_uri": "https://localhost:8080/"
        },
        "id": "-hjWbH6Gn-6l",
        "outputId": "6997eb69-d69d-4bb0-8220-871617466cde"
      },
      "execution_count": 100,
      "outputs": [
        {
          "output_type": "execute_result",
          "data": {
            "text/plain": [
              "array([11, 12, 13, 14])"
            ]
          },
          "metadata": {},
          "execution_count": 100
        }
      ]
    },
    {
      "cell_type": "markdown",
      "source": [
        "When lower or upper bounds are omitted in a slice, the boundaries are assumed to start the beginning, or end, respectively.  We'll showcase this through an example:"
      ],
      "metadata": {
        "id": "uvvigZLEoCJ8"
      }
    },
    {
      "cell_type": "code",
      "source": [
        "# First 5 elements:\n",
        "a[:5]  # the lower bound was excluded, so the slice starts at index 0."
      ],
      "metadata": {
        "colab": {
          "base_uri": "https://localhost:8080/"
        },
        "id": "aB_A6TpBoCyq",
        "outputId": "a3e2c1fb-e6f9-41a2-9a28-b50919e974a7"
      },
      "execution_count": 101,
      "outputs": [
        {
          "output_type": "execute_result",
          "data": {
            "text/plain": [
              "array([10, 11, 12, 13, 14])"
            ]
          },
          "metadata": {},
          "execution_count": 101
        }
      ]
    },
    {
      "cell_type": "markdown",
      "source": [
        "A step size of 2 will give us every other element:"
      ],
      "metadata": {
        "id": "rlfakTInoE7-"
      }
    },
    {
      "cell_type": "code",
      "source": [
        "a[::2]  # both lower and upper slice bounds are omitted, thus the slice starts from index 0 to index -1."
      ],
      "metadata": {
        "colab": {
          "base_uri": "https://localhost:8080/"
        },
        "id": "Hm4gwtfooIO_",
        "outputId": "73939cf4-de0b-426a-fdde-b1e8bc419ea4"
      },
      "execution_count": 102,
      "outputs": [
        {
          "output_type": "execute_result",
          "data": {
            "text/plain": [
              "array([10, 12, 14, 16, 18, 20])"
            ]
          },
          "metadata": {},
          "execution_count": 102
        }
      ]
    },
    {
      "cell_type": "markdown",
      "source": [
        "***\n",
        "### 🛠 Exercise  3 (10 min): Array Slicing in 2D Array  <a name=\"exercise_4\"></a>\n",
        "\n",
        "a) Create a NumPy array with the following values:\n",
        "\n",
        "  - **HINT**: use `np.arange()` followed by `.reshape()`.\n",
        "\n",
        "<br>\n",
        "\n",
        "$$\n",
        "\\hspace{0.5cm} \\begin{matrix} j0  & j1 & j2 &  j3 & j4  \\end{matrix}\n",
        "$$\n",
        "$$\n",
        "\\mathbf{A} =\n",
        "\\begin{bmatrix}\n",
        "0 & 1 & 2 & 3 &  4\\\\\n",
        "5 & 6 & 7 & 8 &  9\\\\\n",
        "10 & 11 & 12 & 13 &  14\\\\\n",
        "15 & 16 & 17 & 18 &  19\\\\\n",
        "20 & 21 & 22 & 23 &  24\\\\\n",
        "\\end{bmatrix}\n",
        "\\begin{matrix} i0  \\\\ i1 \\\\ i2 \\\\  i3 \\\\ i4  \\end{matrix}\n",
        "$$\n",
        "\n",
        "<br>\n",
        "\n",
        "b) Use array indexing and slicing to output the following sub-array from $\\mathbf{A}$:\n",
        "\n",
        "\n",
        "<br>\n",
        "\n",
        "$$\n",
        "\\hspace{0.5cm} \\begin{matrix} j0  & j1 & j2 &  j3 & j4  \\end{matrix}\n",
        "$$\n",
        "$$\n",
        "b =\n",
        "\\begin{bmatrix}\n",
        "10 & 11 & 12 & 13 &  14\\\\\n",
        "\\end{bmatrix}\n",
        "\\begin{matrix} i2\\\\  \\end{matrix}\n",
        "$$\n",
        "\n",
        "<br>\n",
        "\n",
        "c) Use array indexing and slicing to output the following sub-array from $\\mathbf{A}$:\n",
        "\n",
        "<br>\n",
        "$$\n",
        "\\hspace{0.5cm} \\begin{matrix} j3 \\end{matrix}\n",
        "$$\n",
        "$$\n",
        "c =\n",
        "\\begin{bmatrix}\n",
        "8 \\\\\n",
        "13 \\\\\n",
        "18 \\\\\n",
        "\\end{bmatrix}\n",
        "\\begin{matrix} i1 \\\\ i2 \\\\  i3  \\end{matrix}\n",
        "$$\n",
        "\n",
        "<br>\n",
        "\n",
        "d) Use array indexing and slicing to output the following sub-array from $\\mathbf{A}$:\n",
        "\n",
        "<br>\n",
        "\n",
        "$$\n",
        "\\hspace{0.5cm} \\begin{matrix} j0  & j2 & j4  \\end{matrix}\n",
        "$$\n",
        "$$\n",
        "d =\n",
        "\\begin{bmatrix}\n",
        "5  & 7 &  9\\\\\n",
        "15 & 17 & 19\\\\\n",
        "\\end{bmatrix}\n",
        "\\begin{matrix}  i1 \\\\  i3 \\end{matrix}\n",
        "$$\n",
        "\n",
        "<br>\n",
        "\n",
        "<br>"
      ],
      "metadata": {
        "id": "xAsEwqMqoKbl"
      }
    },
    {
      "cell_type": "markdown",
      "source": [
        "> #### 🚧 **BEWARE**:  The sub-arrays $b$, $c$, and $d$, that were created from indexing and slicing array $\\mathbf{\\mathbf{A}}$, all share the same data with $\\mathbf{\\mathbf{A}}$.  That is, $b$, $c$, and $d$ are a reference (and not a copy) of $\\mathbf{A}$.  Thus, changing any element of $b$, $c$, and/or $d$, will also change the element of $\\mathbf{A}$:"
      ],
      "metadata": {
        "id": "i_ow-6PVob0K"
      }
    },
    {
      "cell_type": "code",
      "source": [
        "# Part (a) of exercise 3:\n",
        "\n",
        "a = np.arange(0, 25).reshape((5, 5))\n",
        "\n",
        "# Part (b) of exercise 3:\n",
        "\n",
        "b = a[2]\n",
        "\n",
        "# Part (c) of exercise 3:\n",
        "\n",
        "c = a[1:4, 3]\n",
        "\n",
        "# Part (d) of exercise 3\n",
        "\n",
        "d = a[1::2, ::2]"
      ],
      "metadata": {
        "id": "LSfOLNOMiZwP"
      },
      "execution_count": 103,
      "outputs": []
    },
    {
      "cell_type": "code",
      "source": [
        "# Change 2nd element (index 1) of b to 1234\n",
        "b[1] = 1234  # THIS WILL ALSO CHANGE 'A'!!\n",
        "\n",
        "print('b =', b)\n",
        "print('A =', A)"
      ],
      "metadata": {
        "colab": {
          "base_uri": "https://localhost:8080/"
        },
        "id": "JatlShtioibE",
        "outputId": "be853c64-68fc-456c-f949-2a2ada4d2fe6"
      },
      "execution_count": 104,
      "outputs": [
        {
          "output_type": "stream",
          "name": "stdout",
          "text": [
            "b = [  10 1234   12   13   14]\n",
            "A = [[ 1  2  3  4  5  6  7  8  9 10]\n",
            " [11 12 13 14 15 16 17 18 19 20]\n",
            " [21 22 23 24 25 26 27 28 29 30]]\n"
          ]
        }
      ]
    },
    {
      "cell_type": "markdown",
      "source": [
        "If this is not what you want, you will need to explicitly make a copy using `.copy()`:"
      ],
      "metadata": {
        "id": "us6YGWKIojKt"
      }
    },
    {
      "cell_type": "code",
      "source": [
        "A = np.arange(25).reshape(5,5)  # Create array A.\n",
        "\n",
        "b = A[2,:].copy()  # Create array b as a copy of A.\n",
        "\n",
        "b[1] = 1234  #  Change 2nd element (index 1) of b to 1234\n",
        "\n",
        "print('b =', b)\n",
        "print('A =', A)  # A remains unchanged!"
      ],
      "metadata": {
        "colab": {
          "base_uri": "https://localhost:8080/"
        },
        "id": "-gb0JdhBolYt",
        "outputId": "82b28f20-859b-4ac9-ef4b-8203885ae5ab"
      },
      "execution_count": 105,
      "outputs": [
        {
          "output_type": "stream",
          "name": "stdout",
          "text": [
            "b = [  10 1234   12   13   14]\n",
            "A = [[ 0  1  2  3  4]\n",
            " [ 5  6  7  8  9]\n",
            " [10 11 12 13 14]\n",
            " [15 16 17 18 19]\n",
            " [20 21 22 23 24]]\n"
          ]
        }
      ]
    },
    {
      "cell_type": "markdown",
      "source": [
        "## Vectorization <a name=\"vectorization\"></a>\n",
        "\n",
        "Vectorization is the process of avoiding for-loops in your code.  Vectorized code is faster than the Python for-loop since NumPy runs an optimized, pre-compiled C code behind the scenes.  Thus:\n",
        "\n",
        "<br>\n",
        "<blockquote>\n",
        "\n",
        "#### 🔑 **RECOMMENDATION**: When programming in Python, avoid using for-loops at all costs!  You should try to find clever alternatives that use vectorization, such as:\n",
        "\n",
        "1. Use element-wise NumPy operations\n",
        "2. Use NumPy ufuncs, and/or\n",
        "3. Reformulate your problem using matrix algebra.  \n",
        "\n",
        "</blockquote>\n",
        "\n",
        "<br>\n",
        "\n",
        "We'll demonstrate this concept through an easy example:"
      ],
      "metadata": {
        "id": "5lBZ3V-UpFYT"
      }
    },
    {
      "cell_type": "markdown",
      "source": [
        "## 🛠 Guided Example 1 <a name=\"example_1\"></a>\n",
        "\n",
        "Suppose we have collected data from a sensor that is then stored in a NumPy array `x`.  During post-processing, you need to perform a few procedures:\n",
        "\n",
        "1. Replace all negative entries with the value 0.\n",
        "1. Replace all entries above 10 with the value 10.  \n",
        "\n",
        "The reason for this processing is that your device is a prototype and is susceptible to false readings (*i.e.* a negative value and a value above 10 are physically impossible).\n",
        "\n",
        "We showcase the typical implementation using for-loops below.  Note that the execution time for the vectorized operations is also computed."
      ],
      "metadata": {
        "id": "kd4O12gtpMT_"
      }
    },
    {
      "cell_type": "code",
      "source": [
        "%%time\n",
        "np.random.seed(seed=42) # set seed for reproduceability\n",
        "x = np.random.randint(low=-4, high=14, size=(100_000))\n",
        "\n",
        "# Non-vectorized implementation:\n",
        "for i in range(len(x)):\n",
        "  if x[i] > 10:\n",
        "    x[i] = 10\n",
        "  if x[i] < 0:\n",
        "    x[i] = 0"
      ],
      "metadata": {
        "colab": {
          "base_uri": "https://localhost:8080/"
        },
        "id": "nQq0o-EQpaK0",
        "outputId": "528fdc18-862f-464a-bd7f-1c62e1382eb9"
      },
      "execution_count": 106,
      "outputs": [
        {
          "output_type": "stream",
          "name": "stdout",
          "text": [
            "CPU times: user 67.6 ms, sys: 82 µs, total: 67.7 ms\n",
            "Wall time: 72.9 ms\n"
          ]
        }
      ]
    },
    {
      "cell_type": "markdown",
      "source": [
        "We now show how to implement the equivalent vectorized operation for the required post-processing.  We also estimate the execution time."
      ],
      "metadata": {
        "id": "WUs3QXxapbTC"
      }
    },
    {
      "cell_type": "code",
      "source": [
        "# SOLUTION\n",
        "\n",
        "%%time\n",
        "np.random.seed(seed=42)  # set seed for reproduceability\n",
        "x = np.random.randint(low=-4, high=14, size=(100_000))\n",
        "\n",
        "# Vectorized implementation\n",
        "x[x > 10] = 10\n",
        "x[x < 0] = 0"
      ],
      "metadata": {
        "colab": {
          "base_uri": "https://localhost:8080/"
        },
        "id": "FZnlia1iploS",
        "outputId": "da74288b-4e5a-46a5-c7ca-893df7a28ef7"
      },
      "execution_count": 107,
      "outputs": [
        {
          "output_type": "stream",
          "name": "stdout",
          "text": [
            "CPU times: user 4.23 ms, sys: 0 ns, total: 4.23 ms\n",
            "Wall time: 4.8 ms\n"
          ]
        }
      ]
    },
    {
      "cell_type": "markdown",
      "source": [
        "**NOTE**:\n",
        "\n",
        "- The vectorized implementation is much faster than the implementation that utilizes a for-loop and an else-if statement (~5.4 ms compared to 98.4 ms - these values will vary for all users).\n",
        "\n",
        "- To generate the same random values in each of the two code cells, we have defined the initial seed value (usually asigned an integer value). .  There may be times where you may want reproduceability when generating random values, which is done by defining the seed value.   "
      ],
      "metadata": {
        "id": "fm1vfVXFppqX"
      }
    },
    {
      "cell_type": "markdown",
      "source": [
        "## Rest\n",
        "Take a rest and recharge before moving on to the next section!\n"
      ],
      "metadata": {
        "id": "cgDXAT32qhFa"
      }
    },
    {
      "cell_type": "markdown",
      "source": [
        "# <u>Part 4 </u>: Coding Simple Probabilistic Concepts <a name=\"coding_simple_probabilistic_concepts\"></a>\n",
        "\n",
        "There is no better way to demonstrate the fundamental concepts of Python and NumPy than through a series of examples that relate closely to probability!"
      ],
      "metadata": {
        "id": "Y3rIAJC4daRm"
      }
    },
    {
      "cell_type": "markdown",
      "source": [
        "## 🛠 Guided Example 2: Simulate tossing a *fair* coin $\\small n$ times  <a name=\"example_2\"></a>\n",
        "\n",
        "This example requires us to generate the outcome of tossing a *fair* coin $\\small n$ times.  Although there are many ways to simulate this using NumPy, we showcase how to use [`random.choice()`](https://numpy.org/doc/stable/reference/random/generated/numpy.random.choice.html) NumPy function.\n",
        "\n",
        "The input of `random.choice()` are:\n",
        "\n",
        "  - `a`: a list containing elements or outcomes to an event.\n",
        "\n",
        "  - `size`: integer or tuple specifying the output shape, essentially specifying how many random samples are generated.\n",
        "\n",
        "  - `replace`: boolean variable (`True` or `False`) controlling whehter a sample is drawn with or without replacement.  `replace` is taken as `True` by default, if not defined.   \n",
        "\n",
        "  - `p`: the probabilities associated with each entry in `a`.  A uniform distribution is assumed over all entries in `a` if `p` not defined.\n",
        "\n",
        "<br>\n",
        "\n",
        "Now, if we arbitrarily assign a value of `1` to \"heads\" and a value of `0` to \"tails\", we can use `random.choice()` to make a selection from the set $\\small \\{0, 1\\}$.  The syntax for tossing a fair coin once is relatively simple:\n",
        "\n",
        "\n",
        "\n",
        "\n",
        "\n",
        "\n"
      ],
      "metadata": {
        "id": "bw-nWpqsueuJ"
      }
    },
    {
      "cell_type": "code",
      "source": [
        "# Tossing a fair coin once, using np.random.choice():\n",
        "R = np.random.choice(a = [1, 0], size=1, p=[0.5, 0.5])\n",
        "print(R)"
      ],
      "metadata": {
        "colab": {
          "base_uri": "https://localhost:8080/"
        },
        "id": "b5grQwD1NCKr",
        "outputId": "754bb498-765e-43e7-802f-8429755f24fd"
      },
      "execution_count": 108,
      "outputs": [
        {
          "output_type": "stream",
          "name": "stdout",
          "text": [
            "[0]\n"
          ]
        }
      ]
    },
    {
      "cell_type": "markdown",
      "source": [
        "Which provides the output of tossing a fair coin once.\n",
        "\n",
        "We can get the outcome of tossing a biased coin (with the probability of getting heads to be $\\small 0.6$) a total of $\\small n = 10$ times by simply changing the `size` and `p` input of `random.choice()`\n",
        "\n",
        "- As a bonus, note that we can change the input to select a choice from the set comprised of the strings {`\"heads\"`, `\"tails\"`}:"
      ],
      "metadata": {
        "id": "cSPvWK_W4CKo"
      }
    },
    {
      "cell_type": "code",
      "source": [
        "# Tossing a biased coin 10 times, using np.random.choice():\n",
        "R = np.random.choice(a = ['head', 'tail'], size=10, p=[0.6, 0.4])\n",
        "print(R)"
      ],
      "metadata": {
        "colab": {
          "base_uri": "https://localhost:8080/"
        },
        "id": "xDOZrVWbOJeb",
        "outputId": "956ca73c-15f6-46bf-afb7-819bd98f5f79"
      },
      "execution_count": 109,
      "outputs": [
        {
          "output_type": "stream",
          "name": "stdout",
          "text": [
            "['head' 'head' 'head' 'head' 'head' 'head' 'tail' 'head' 'head' 'head']\n"
          ]
        }
      ]
    },
    {
      "cell_type": "markdown",
      "source": [
        "### 🛠 Exercise  4 (10 min): <a name=\"exercise_5\"></a>\n",
        "\n",
        "(a) Simulate rolling a *fair* 6-sided die  $\\small n = 100,000$ times.  Store the output to a variable called `dice`.  \n",
        "\n",
        "(b) Simulate rolling 4 *fair* 6-sided die  $\\small n = 10$ times.  Store the output to a variable called `four_dice` and print the output.\n",
        "  -  **HINT**: Change the `shape` output to reflect 4 experiments, each with 10 trials.    "
      ],
      "metadata": {
        "id": "gupKQRmvevMW"
      }
    },
    {
      "cell_type": "code",
      "source": [
        "dice = np.random.choice(a = [1, 2, 3, 4, 5, 6], size = 100000) # this is the solution to Part (a)\n",
        "\n",
        "\n",
        "# You need to solve Part (b)\n",
        "\n",
        "four_dice = np.random.choice(a=[1, 2, 3, 4, 5, 6],size=(4, 10))\n",
        "\n",
        "print(four_dice)"
      ],
      "metadata": {
        "id": "6FH8g_t-oedS",
        "colab": {
          "base_uri": "https://localhost:8080/"
        },
        "outputId": "89af45a6-17f5-491e-8122-c703d8ff3446"
      },
      "execution_count": 133,
      "outputs": [
        {
          "output_type": "stream",
          "name": "stdout",
          "text": [
            "[[3 3 2 5 1 4 6 3 5 3]\n",
            " [4 5 1 3 4 2 5 5 6 4]\n",
            " [2 4 4 6 3 5 4 6 4 5]\n",
            " [5 6 1 6 6 3 2 1 1 3]]\n"
          ]
        }
      ]
    },
    {
      "cell_type": "markdown",
      "source": [
        "A natural question that may arise following [Exercise 4](#exercise_5):\n",
        "\n",
        "> What is the count of all the possible outcome of rolling a *fair* 6-sided die  $\\small n = 100,000$ times?\n",
        "\n",
        "One way to solve this is by looping through the array `die`, which contains the outcome of the simulation.  We then count the number of occurance of each of the 6 outcomes.  We show this in the code cell below:"
      ],
      "metadata": {
        "id": "S69a_knHhLk3"
      }
    },
    {
      "cell_type": "code",
      "source": [
        "# Create counter variable for all outcomes of rolling a die:\n",
        "count_1 = 0  # counter for rolling a 1\n",
        "count_2 = 0  # counter for rolling a 2\n",
        "count_3 = 0  # counter for rolling a 3\n",
        "count_4 = 0  # counter for rolling a 4\n",
        "count_5 = 0  # counter for rolling a 5\n",
        "count_6 = 0  # counter for rolling a 6\n",
        "\n",
        "\n",
        "# For loop to count the number of each outcome (1 through 6)\n",
        "for i in dice: # only works for a 1-D array\n",
        "  if i == 1:    # if rolled a 1\n",
        "    count_1 += 1\n",
        "  elif i == 2:   # if rolled a 2\n",
        "    count_2 += 1\n",
        "  elif i == 3:   # if rolled a 3\n",
        "    count_3 += 1\n",
        "  elif i == 4:   # if rolled a 4\n",
        "    count_4 += 1\n",
        "  elif i == 5:   # if rolled a 5\n",
        "    count_5 += 1\n",
        "  else:         # if rolled a 6\n",
        "    count_6 += 1\n",
        "\n",
        "# Print the count of all outcomes\n",
        "print(\"Total 1's: \", count_1)\n",
        "print(\"Total 2's: \", count_2)\n",
        "print(\"Total 3's: \", count_3)\n",
        "print(\"Total 4's: \", count_4)\n",
        "print(\"Total 5's: \", count_5)\n",
        "print(\"Total 6's: \", count_6)"
      ],
      "metadata": {
        "colab": {
          "base_uri": "https://localhost:8080/"
        },
        "id": "zdEuhIpPrZKK",
        "outputId": "1d85d911-5be0-461a-846b-fece61d54bb1"
      },
      "execution_count": 111,
      "outputs": [
        {
          "output_type": "stream",
          "name": "stdout",
          "text": [
            "Total 1's:  16574\n",
            "Total 2's:  16862\n",
            "Total 3's:  16617\n",
            "Total 4's:  16647\n",
            "Total 5's:  16647\n",
            "Total 6's:  16653\n"
          ]
        }
      ]
    },
    {
      "cell_type": "markdown",
      "source": [
        "Observe that the count of all outcomes of rolling a fair 6-sided die is approximately equal!  This makes sense given that the likelihood of rolling one side of the die is equal to the likelihood of  rolling any other side of the die (*i.e.*, a fair die).\n",
        "\n",
        "We can even create a *histogram* using the variable `die` to get a visual representation of the outcomes:"
      ],
      "metadata": {
        "id": "SNDAxNDyq8xX"
      }
    },
    {
      "cell_type": "code",
      "source": [
        "# Edit size of the figure:\n",
        "plt.figure(figsize=(10,4))\n",
        "\n",
        "# Plot the histogram\n",
        "plt.hist(dice, bins=np.arange(1, 8) - 0.5, edgecolor='black', alpha=0.7)  # adujust bins parameter appropriately!\n",
        "plt.title('Outcome of rolling a fair 6-Sided die $n$ = 100,000 times')\n",
        "plt.xlabel('Outcome')\n",
        "plt.ylabel('Frequency')\n",
        "plt.show()"
      ],
      "metadata": {
        "colab": {
          "base_uri": "https://localhost:8080/",
          "height": 412
        },
        "id": "20Af57OnsRvi",
        "outputId": "26cd7f3a-a405-4322-947d-55f70de11ee5"
      },
      "execution_count": 112,
      "outputs": [
        {
          "output_type": "display_data",
          "data": {
            "text/plain": [
              "<Figure size 1000x400 with 1 Axes>"
            ],
            "image/png": "[encoded data removed]"
          },
          "metadata": {}
        }
      ]
    },
    {
      "cell_type": "markdown",
      "source": [
        "As we saw already from [Part 3](#numpy_basics), [vectorization](#vectorization) can be employed to avoid for-loops.  For completeness, we showcase how to count the outcomes of an event without using for-loops:"
      ],
      "metadata": {
        "id": "TBQr6Wxl9TkB"
      }
    },
    {
      "cell_type": "code",
      "source": [
        "# Count of outcomes:\n",
        "count_1 = dice[dice == 1].size\n",
        "count_2 = dice[dice == 2].size\n",
        "count_3 = dice[dice == 3].size\n",
        "count_4 = dice[dice == 4].size\n",
        "count_5 = dice[dice == 5].size\n",
        "count_6 = dice[dice == 6].size\n",
        "\n",
        "# Print the count of all outcomes\n",
        "print(\"Total 1's: \", count_1)\n",
        "print(\"Total 2's: \", count_2)\n",
        "print(\"Total 3's: \", count_3)\n",
        "print(\"Total 4's: \", count_4)\n",
        "print(\"Total 5's: \", count_5)\n",
        "print(\"Total 6's: \", count_6)"
      ],
      "metadata": {
        "colab": {
          "base_uri": "https://localhost:8080/"
        },
        "id": "4E91gFYG99GZ",
        "outputId": "82edb6e1-25b9-46a9-d438-5d0db8c8b62e"
      },
      "execution_count": 113,
      "outputs": [
        {
          "output_type": "stream",
          "name": "stdout",
          "text": [
            "Total 1's:  16574\n",
            "Total 2's:  16862\n",
            "Total 3's:  16617\n",
            "Total 4's:  16647\n",
            "Total 5's:  16647\n",
            "Total 6's:  16653\n"
          ]
        }
      ]
    },
    {
      "cell_type": "markdown",
      "source": [
        "And just like that we have cleverly avoided using for-loops and else-elif-else statements!  \n",
        "\n",
        "Keep in mind that not all for-loops can be avoided when programming in Python."
      ],
      "metadata": {
        "id": "E4L6gyYQAKNM"
      }
    },
    {
      "cell_type": "markdown",
      "source": [
        "***\n",
        "### 🛠 Exercise  5 (10 min): <a name=\"exercise_6\"></a>\n",
        "\n",
        "Find an <u> estimate of the probability </u> of getting heads after tossing a *biased* coin (with the probability of getting heads equal $\\small 0.65$).\n",
        "\n",
        "**HINT**:\n",
        "\n",
        "- An estimate of the probability is given by the number of occurence of an event, divided by the total number of trials ran.\n",
        "\n",
        "- The more times you toss the coin, the better the estimate of the probability of getting head after tossing the coin.\n",
        "\n",
        "- Your estimate for the probability of getting heads should be very close to 0.65.\n",
        "\n"
      ],
      "metadata": {
        "id": "HeOf-RCf1QzT"
      }
    },
    {
      "cell_type": "code",
      "source": [
        "num_tosses = 10000000\n",
        "\n",
        "biased_coin = np.random.choice(a = [\"heads\", \"tails\"], size=num_tosses, p=[0.65, 0.35])\n",
        "\n",
        "probability_heads = biased_coin[biased_coin == \"heads\"].size / num_tosses\n",
        "probability_tails = biased_coin[biased_coin == \"tails\"].size / num_tosses\n",
        "\n",
        "# Print probabilities:\n",
        "print('Probability of getting heads: ', probability_heads)\n",
        "print('Probability of getting tails: ', probability_tails)"
      ],
      "metadata": {
        "colab": {
          "base_uri": "https://localhost:8080/"
        },
        "id": "ar3q9FkWrosh",
        "outputId": "dab4369b-475d-418d-b8d5-03852bd0f521"
      },
      "execution_count": 114,
      "outputs": [
        {
          "output_type": "stream",
          "name": "stdout",
          "text": [
            "Probability of getting heads:  0.6498008\n",
            "Probability of getting tails:  0.3501992\n"
          ]
        }
      ]
    },
    {
      "cell_type": "code",
      "source": [
        "# Here we provide the solution of this exercise, but you should try to write your own code and compare your version with the provided solution.\n",
        "#====SOLUTION======\n",
        "# Number of times the coin is tossed:\n",
        "n = int(1e6)\n",
        "\n",
        "# Toss a biased coin n times, using np.random.choice():\n",
        "coin = np.random.choice(a = [\"heads\", \"tails\"], size=n, p=[0.65, 0.35])\n",
        "\n",
        "# Find probability of seeing heads and tails: vectorized approach\n",
        "prob_heads = coin[coin == \"heads\"].size/n\n",
        "prob_tails = coin[coin == \"tails\"].size/n\n",
        "\n",
        "# Print probabilities:\n",
        "print('Probability of getting heads: ', prob_heads)\n",
        "print('Probability of getting tails: ', prob_tails)\n",
        "\n",
        "# Plot histogram:\n",
        "plt.hist(coin, edgecolor='black', bins=np.arange(0, 3) - 0.5, alpha=0.7, density=True)  # adujust bins parameter appropriately!\n",
        "plt.title('Probability of Tossing a biased coin using $n$ = 1,000,000')\n",
        "plt.xlabel('Outcome')\n",
        "plt.ylabel('Probability')\n",
        "plt.show()"
      ],
      "metadata": {
        "colab": {
          "base_uri": "https://localhost:8080/",
          "height": 510
        },
        "id": "s4n2esht3K60",
        "outputId": "35d15438-f15d-4204-c92d-2770066e39fa"
      },
      "execution_count": 115,
      "outputs": [
        {
          "output_type": "stream",
          "name": "stdout",
          "text": [
            "Probability of getting heads:  0.649417\n",
            "Probability of getting tails:  0.350583\n"
          ]
        },
        {
          "output_type": "display_data",
          "data": {
            "text/plain": [
              "<Figure size 640x480 with 1 Axes>"
            ],
            "image/png": "[encoded data removed]"
          },
          "metadata": {}
        }
      ]
    },
    {
      "cell_type": "markdown",
      "source": [
        "## Functions: Putting it all together <a name=\"functions\"></a>\n",
        "\n",
        "Let's put everything together and create a custom Python function that computes the probability of getting heads after tossing a biased coin with probability of heads taken as `P_head`.  Another input to this custom function is `n`, corresponding to the number of trials we toss the coin.  The output of the function should be a float value holding the probability of getting heads.\n",
        "\n",
        "This is implemented in the code cell below:\n",
        "\n"
      ],
      "metadata": {
        "id": "TxiU9Pq4653X"
      }
    },
    {
      "cell_type": "code",
      "source": [
        "# Define function:\n",
        "def toss_biased_coin(n, P_head):\n",
        "  # Toss a biased coin n times, using np.random.choice():\n",
        "  coin = np.random.choice(a = [\"heads\", \"tails\"], size=n, p=[P_head, 1-P_head])\n",
        "\n",
        "  # Find probability of seeing heads and tails: vectorized approach\n",
        "  return coin[coin == \"heads\"].size/n"
      ],
      "metadata": {
        "id": "b3m1ZeFX7fYE"
      },
      "execution_count": 116,
      "outputs": []
    },
    {
      "cell_type": "markdown",
      "source": [
        "Let's use this function to track the quality of the estimate of the probability of getting heads.  Let's approximate the probability of getting heads from tossing a biased coin with the probability of heads being $\\small 0.62$.\n",
        "\n",
        "To do this, we use a for-loop to iterate through various values of $\\small n$, each time calling the user-defined function `toss_biased_coin()`:"
      ],
      "metadata": {
        "id": "WLF_d4XX8Ikg"
      }
    },
    {
      "cell_type": "code",
      "source": [
        "# create array with various values of n:\n",
        "n_values = np.arange(1, 10000, 10 )\n",
        "\n",
        "# Array holding prob of heads:\n",
        "prob_head = []\n",
        "\n",
        "# Loop through n_values and approximate probabilities\n",
        "for i in n_values:\n",
        "  prob_head.append(toss_biased_coin(i, 0.62))\n",
        "\n",
        "# Plot probability of heads vs. n values:\n",
        "plt.figure(figsize=(10,4))\n",
        "\n",
        "plt.plot(n_values, prob_head, '-')\n",
        "plt.xlabel('Number of Trials $n$')\n",
        "plt.ylabel('Estimated Probability of Getting Heads')\n",
        "plt.show()"
      ],
      "metadata": {
        "colab": {
          "base_uri": "https://localhost:8080/",
          "height": 389
        },
        "id": "7wQ5KNga8xTJ",
        "outputId": "bdcafa81-ddec-4d12-df7d-d19b6943286d"
      },
      "execution_count": 117,
      "outputs": [
        {
          "output_type": "display_data",
          "data": {
            "text/plain": [
              "<Figure size 1000x400 with 1 Axes>"
            ],
            "image/png": "[encoded data removed]"
          },
          "metadata": {}
        }
      ]
    },
    {
      "cell_type": "markdown",
      "source": [
        "Pretty nice!  It shows us that our virtual experiments are producing a probability of getting heads that is converging to the actual value. The longer we runour simulation, the smaller the variation of the estimated probability."
      ],
      "metadata": {
        "id": "V7SgcK2IAvfL"
      }
    },
    {
      "cell_type": "markdown",
      "source": [
        "## 🛠 Guided Example 3 <a name=\"example_3\"></a>\n",
        "\n",
        "<u>Question</u>: What is the probability that a fair 6-sided die rolls an even number?\n",
        "\n",
        "This can be determined concisely as shown below:"
      ],
      "metadata": {
        "id": "JieDh84oFHP-"
      }
    },
    {
      "cell_type": "code",
      "source": [
        "# Tossing a fair 6-sided die n= 1 million times, using np.random.choice():\n",
        "die = np.random.choice(a = np.arange(1,7), size=int(1e6))\n",
        "\n",
        "# Find all outcomes where the die rolled an even number:\n",
        "die_even = die[die % 2 == 0]\n",
        "\n",
        "# Find the count where the die rolled an even number\n",
        "count_even = die_even.size\n",
        "\n",
        "# Find the probability that the die rolled an even number by dividing count by the number of trials:\n",
        "prob_even = count_even/die.size\n",
        "print('Probability of tossing an even number: ', prob_even)"
      ],
      "metadata": {
        "colab": {
          "base_uri": "https://localhost:8080/"
        },
        "id": "I-W0ZxHGFeUm",
        "outputId": "ccb4cccc-7b0f-4032-b5ed-c1066806db85"
      },
      "execution_count": 118,
      "outputs": [
        {
          "output_type": "stream",
          "name": "stdout",
          "text": [
            "Probability of tossing an even number:  0.500475\n"
          ]
        }
      ]
    },
    {
      "cell_type": "markdown",
      "source": [
        "## 🛠 Guided Example 4 <a name=\"example_4\"></a>\n",
        "\n",
        "<u>Question</u>: If we roll two fair dice, which is more likely: a sum of 11 or a sum of 12?\n",
        "\n",
        "We can approximately solve this problem by rolling two die seperately, and then approximating the probability of each event.  We start with the simulation of tossing two fair die a million times (or any large arbitrary number):"
      ],
      "metadata": {
        "id": "XvIwWS1s-tCV"
      }
    },
    {
      "cell_type": "code",
      "source": [
        "# Tossing a fair 6-sided die n= 1 million times, using np.random.choice():\n",
        "die1 = np.random.choice(a = np.arange(1,7), size=int(1e6))\n",
        "\n",
        "# Tossing a second fair 6-sided die n= 1 million times, using np.random.choice():\n",
        "die2 = np.random.choice(a = np.arange(1,7), size=int(1e6))"
      ],
      "metadata": {
        "id": "GMCdD_hj_aUK"
      },
      "execution_count": 119,
      "outputs": []
    },
    {
      "cell_type": "markdown",
      "source": [
        "We now solve for the probability that the sum of two consecutive rolls is 11.  We do this by:\n",
        "\n",
        "1. First computing the sum of each roll.\n",
        "\n",
        "2. Count how many instances of the \"sum\" was equal to 11.\n",
        "\n",
        "3. Divide this count by the number of total trials.\n",
        "\n",
        "All three steps are shown below:"
      ],
      "metadata": {
        "id": "BFbaAnuwAc8c"
      }
    },
    {
      "cell_type": "code",
      "source": [
        "# Compute sum of each roll of the two dice:\n",
        "die_sum = die1 + die2\n",
        "\n",
        "# Check how many instances were equal to 11:\n",
        "count_11 = die_sum[die_sum == 11].size\n",
        "\n",
        "# Probability of rolling a sum of 11:\n",
        "prob_11 = count_11/die1.size\n",
        "print('Probability of sum = 11: ', prob_11)"
      ],
      "metadata": {
        "colab": {
          "base_uri": "https://localhost:8080/"
        },
        "id": "X3-wZHqBAoYn",
        "outputId": "959d76f0-09df-4711-ba0b-d708c45b819a"
      },
      "execution_count": 120,
      "outputs": [
        {
          "output_type": "stream",
          "name": "stdout",
          "text": [
            "Probability of sum = 11:  0.055502\n"
          ]
        }
      ]
    },
    {
      "cell_type": "markdown",
      "source": [
        "We can do the same for the probability that the sum of two consecutive rolls is 12:"
      ],
      "metadata": {
        "id": "b4E1ROtRBHiu"
      }
    },
    {
      "cell_type": "code",
      "source": [
        "# Check how many instances were equal to 12:\n",
        "count_12 = die_sum[die_sum == 12].size\n",
        "\n",
        "# Probability of rolling a sum of 12:\n",
        "prob_12 = count_12/die1.size\n",
        "print('Probability of sum = 12: ', prob_12)"
      ],
      "metadata": {
        "colab": {
          "base_uri": "https://localhost:8080/"
        },
        "id": "8Lz84xNEBPGl",
        "outputId": "06ca0dbe-e2bb-43d3-9ac2-0b84a83a4559"
      },
      "execution_count": 121,
      "outputs": [
        {
          "output_type": "stream",
          "name": "stdout",
          "text": [
            "Probability of sum = 12:  0.02792\n"
          ]
        }
      ]
    },
    {
      "cell_type": "markdown",
      "source": [
        "<u>Answer</u>: We see that the probability of rolling a sum of 11 (~ 0.056) is larger than the probability of rolling a sum of 12 (~ 0.028).\n",
        "***"
      ],
      "metadata": {
        "id": "tnANdEBzBU82"
      }
    },
    {
      "cell_type": "markdown",
      "source": [
        "# Python Resources <a name=\"python_resources\"></a>\n",
        "\n",
        "\n",
        "The following are great resources to have.  Both books are written entirely on a Jupyter notebook and are completely free.\n",
        "\n",
        "1. [A Whirlwind Tour of Python](https://jakevdp.github.io/WhirlwindTourOfPython/index.html), by Jake VanderPlas.\n",
        "\n",
        "1. [Python Data Science Handbook](https://jakevdp.github.io/PythonDataScienceHandbook/index.html), Jake VanderPlas.\n",
        "\n",
        "***"
      ],
      "metadata": {
        "id": "aru5AnPNYstG"
      }
    },
    {
      "cell_type": "markdown",
      "source": [
        "## Questions <a name=\"Questions\"></a>\n",
        "\n",
        "Please direct any questions or feedback you might have to Jason Martinez via jmartinez@g.harvard.edu.\n",
        "\n",
        "Thank You!\n",
        "\n",
        "***"
      ],
      "metadata": {
        "id": "t5aes_NOXSBQ"
      }
    },
    {
      "cell_type": "markdown",
      "source": [
        "\n",
        "Prepared by the\n",
        "[Computing in Engineering Education (CEE)](https://www.seas.harvard.edu/computing-engineering-education) team at Harvard University.\n",
        "\n",
        "\n",
        "<br>\n",
        "<blockquote>\n",
        "<center>\n",
        "<img align=\"middle\" width=40% height=auto src=\"https://drive.google.com/uc?export=view&id=1jibzAHEYtZZDVtLyTE_G05fA02por35s\">\n",
        "</center>\n",
        "</blockquote>\n",
        "\n",
        "<br>\n",
        "\n",
        "***"
      ],
      "metadata": {
        "id": "3p3Dda5dk_h8"
      }
    },
    {
      "cell_type": "markdown",
      "source": [
        "# APPENDIX <a name=\"appendix\"></a>"
      ],
      "metadata": {
        "id": "_t6GtRoacZiO"
      }
    },
    {
      "cell_type": "markdown",
      "source": [
        "## A1: Tossing a fair coin 10 times using `random.randint()`\n",
        "\n",
        "We could have easily used the [`random.randint()`](https://numpy.org/doc/stable/reference/random/generated/numpy.random.randint.html) NumPy function to simulate the event of tossing a fair coin $\\small n$ times. This is shown in the code cell below for $\\small n = 10$ times, where `1` is taken as `\"heads\"`, and `0` is taken as `\"tails\"`."
      ],
      "metadata": {
        "id": "mYvSVTUFcbH2"
      }
    },
    {
      "cell_type": "code",
      "source": [
        "# Tossing a fair coin 10 times: Create a random array of integers between [0, 2):\n",
        "R = np.random.randint(low=0, high=2, size=10)\n",
        "print(R)"
      ],
      "metadata": {
        "colab": {
          "base_uri": "https://localhost:8080/"
        },
        "id": "b4pvHs1K8Cue",
        "outputId": "c575b66a-e1eb-418c-f4e6-226d80bfaf4b"
      },
      "execution_count": 122,
      "outputs": [
        {
          "output_type": "stream",
          "name": "stdout",
          "text": [
            "[1 1 1 0 0 0 0 0 0 0]\n"
          ]
        }
      ]
    },
    {
      "cell_type": "markdown",
      "source": [
        "## A2: Tossing a fair coin 10 times using `random.rand()`\n",
        "\n",
        "With some creativity, we can use [`random.rand()`](https://numpy.org/doc/stable/reference/random/generated/numpy.random.rand.html) to simulate the event of tossing a fair coin $\\small n$ times. This is shown in the code cell below for $\\small n = 10$ times, where `1` is taken as `\"heads\"`, and `0` is taken as `\"tails\"`.\n",
        "\n",
        "In this solution, we need to asign the outcome based on the value of the random value generated.  We used:\n",
        "\n",
        "- if random value generated < 0.5, assign an outcome of `\"heads\"`.\n",
        "\n",
        "- if the random value generated >= 0.5, assign an outcome of `\"tails\"`.\n",
        "\n",
        "This choice is arbritary, that is we could have assigned `\"tails\"` to the random value genrated being < 0.5.  Note that the value of 0.5 was utilized since we are tossing a fair coin.  "
      ],
      "metadata": {
        "id": "QZIcj2C28H3x"
      }
    },
    {
      "cell_type": "code",
      "source": [
        "# Create a NumPy array with random values uniformly distributed from [0, 1), with size 10\n",
        "R = np.random.rand(10)\n",
        "\n",
        "# Fancy indexing to re-write R with 0s and 1s based on probability of heads and tails:\n",
        "R[R>0.5] = 1\n",
        "R[R<=0.5] = 0\n",
        "\n",
        "# Print R\n",
        "print(R)"
      ],
      "metadata": {
        "colab": {
          "base_uri": "https://localhost:8080/"
        },
        "id": "IXSB5XNh8U9X",
        "outputId": "43c04abd-652f-4ed4-f0da-c9457e6f4544"
      },
      "execution_count": 123,
      "outputs": [
        {
          "output_type": "stream",
          "name": "stdout",
          "text": [
            "[0. 0. 0. 1. 0. 1. 0. 1. 1. 1.]\n"
          ]
        }
      ]
    }
  ]
}